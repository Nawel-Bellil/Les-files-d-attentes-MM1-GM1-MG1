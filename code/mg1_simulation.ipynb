{
  "nbformat": 4,
  "nbformat_minor": 0,
  "metadata": {
    "colab": {
      "provenance": [],
      "authorship_tag": "ABX9TyMBfHqlFNDGjKwns4K1+TW+",
      "include_colab_link": true
    },
    "kernelspec": {
      "name": "python3",
      "display_name": "Python 3"
    },
    "language_info": {
      "name": "python"
    }
  },
  "cells": [
    {
      "cell_type": "markdown",
      "metadata": {
        "id": "view-in-github",
        "colab_type": "text"
      },
      "source": [
        "<a href=\"https://colab.research.google.com/github/Nawel-Bellil/Les-files-d-attentes-MM1-GM1-MG1/blob/main/code/mg1_simulation.ipynb\" target=\"_parent\"><img src=\"https://colab.research.google.com/assets/colab-badge.svg\" alt=\"Open In Colab\"/></a>"
      ]
    },
    {
      "cell_type": "code",
      "source": [
        "import numpy as np\n",
        "import matplotlib.pyplot as plt\n",
        "import pandas as pd\n",
        "import time\n",
        "from collections import deque\n",
        "from scipy import stats\n",
        "import seaborn as sns\n",
        "from tqdm import tqdm\n",
        "from datetime import datetime\n",
        "import os"
      ],
      "metadata": {
        "id": "8N4ZBHqKB5yb"
      },
      "execution_count": 36,
      "outputs": []
    },
    {
      "cell_type": "code",
      "source": [
        "\n",
        "\n",
        "class QueueSimulator:\n",
        "    \"\"\"\n",
        "    Classe abstraite de base pour simuler les systèmes de files d'attente.\n",
        "\n",
        "    Cette classe fournit l'infrastructure de base pour simuler différents types\n",
        "    de files d'attente mono-serveur en utilisant une approche d'événements discrets.\n",
        "    \"\"\"\n",
        "    def __init__(self, lambda_rate, mu_rate, num_customers=1000000, seed=42):\n",
        "        \"\"\"\n",
        "        Initialise le simulateur.\n",
        "\n",
        "        Args:\n",
        "            lambda_rate (float): Taux d'arrivée moyen (λ)\n",
        "            mu_rate (float): Taux de service moyen (μ)\n",
        "            num_customers (int): Nombre de clients à simuler\n",
        "            seed (int): Graine pour la génération de nombres aléatoires\n",
        "        \"\"\"\n",
        "        if lambda_rate <= 0 or mu_rate <= 0:\n",
        "            raise ValueError(\"Les taux d'arrivée et de service doivent être positifs\")\n",
        "        if lambda_rate >= mu_rate:\n",
        "            print(f\"Attention: λ={lambda_rate} >= μ={mu_rate}, le système peut être instable\")\n",
        "\n",
        "        self.lambda_rate = lambda_rate\n",
        "        self.mu_rate = mu_rate\n",
        "        self.num_customers = num_customers\n",
        "        self.rng = np.random.RandomState(seed)\n",
        "\n",
        "        # Métriques à collecter\n",
        "        self.waiting_times = np.zeros(num_customers)\n",
        "        self.response_times = np.zeros(num_customers)\n",
        "        self.server_busy_time = 0\n",
        "        self.last_event_time = 0\n",
        "        self.total_simulation_time = 0\n",
        "\n",
        "        # Variables de simulation\n",
        "        self.queue = deque()\n",
        "        self.server_busy = False\n",
        "\n",
        "    def generate_interarrival_time(self):\n",
        "        \"\"\"\n",
        "        Génère le temps entre deux arrivées consécutives.\n",
        "        À implémenter dans les classes dérivées.\n",
        "        \"\"\"\n",
        "        raise NotImplementedError(\"Les classes dérivées doivent implémenter cette méthode\")\n",
        "\n",
        "    def generate_service_time(self):\n",
        "        \"\"\"\n",
        "        Génère le temps de service d'un client.\n",
        "        À implémenter dans les classes dérivées.\n",
        "        \"\"\"\n",
        "        raise NotImplementedError(\"Les classes dérivées doivent implémenter cette méthode\")\n",
        "\n",
        "    def run_simulation(self):\n",
        "        \"\"\"\n",
        "        Exécute la simulation d'événements discrets.\n",
        "\n",
        "        Cette méthode implémente l'algorithme principal de simulation pour\n",
        "        un système de file d'attente mono-serveur.\n",
        "        \"\"\"\n",
        "        print(f\"Démarrage de la simulation avec {self.num_customers} clients...\")\n",
        "\n",
        "        # Initialiser les temps d'arrivée et de départ\n",
        "        arrival_times = np.zeros(self.num_customers)\n",
        "        departure_times = np.zeros(self.num_customers)\n",
        "\n",
        "        # Générer les temps d'inter-arrivée\n",
        "        inter_arrival_times = np.array([self.generate_interarrival_time()\n",
        "                                      for _ in range(self.num_customers)])\n",
        "\n",
        "        # Calculer les temps d'arrivée absolus\n",
        "        arrival_times[0] = inter_arrival_times[0]\n",
        "        for i in range(1, self.num_customers):\n",
        "            arrival_times[i] = arrival_times[i-1] + inter_arrival_times[i]\n",
        "\n",
        "        # Initialiser la simulation\n",
        "        departure_time = 0\n",
        "\n",
        "        # Parcourir tous les clients avec barre de progression\n",
        "        for i in tqdm(range(self.num_customers), desc=\"Simulation en cours\"):\n",
        "            arrival_time = arrival_times[i]\n",
        "            service_time = self.generate_service_time()\n",
        "\n",
        "            # Si le serveur est libre à l'arrivée du client\n",
        "            if arrival_time >= departure_time:\n",
        "                waiting_time = 0\n",
        "                # Le départ est programmé après le temps de service\n",
        "                departure_time = arrival_time + service_time\n",
        "                self.server_busy_time += service_time\n",
        "            else:\n",
        "                # Le client doit attendre\n",
        "                waiting_time = departure_time - arrival_time\n",
        "                self.server_busy_time += service_time\n",
        "                # Mettre à jour le temps de départ\n",
        "                departure_time += service_time\n",
        "\n",
        "            # Enregistrer les métriques\n",
        "            self.waiting_times[i] = waiting_time\n",
        "            self.response_times[i] = waiting_time + service_time\n",
        "            departure_times[i] = departure_time\n",
        "\n",
        "        # Durée totale de la simulation\n",
        "        self.total_simulation_time = departure_times[-1]\n",
        "\n",
        "        # Calculer les métriques finales\n",
        "        self.calculate_metrics()\n",
        "\n",
        "    def calculate_metrics(self):\n",
        "        \"\"\"\n",
        "        Calcule les métriques finales de la simulation.\n",
        "        \"\"\"\n",
        "        self.avg_waiting_time = np.mean(self.waiting_times)\n",
        "        self.avg_response_time = np.mean(self.response_times)\n",
        "        self.utilization = self.server_busy_time / self.total_simulation_time\n",
        "        self.theoretical_utilization = self.lambda_rate / self.mu_rate\n",
        "\n",
        "        # Calcul des métriques additionnelles\n",
        "        self.max_waiting_time = np.max(self.waiting_times)\n",
        "        self.max_response_time = np.max(self.response_times)\n",
        "        self.std_waiting_time = np.std(self.waiting_times)\n",
        "        self.std_response_time = np.std(self.response_times)\n",
        "\n",
        "        # Percentiles\n",
        "        self.waiting_time_95th = np.percentile(self.waiting_times, 95)\n",
        "        self.response_time_95th = np.percentile(self.response_times, 95)\n",
        "\n",
        "        if hasattr(self, 'get_theoretical_metrics'):\n",
        "            self.theoretical_metrics = self.get_theoretical_metrics()\n",
        "\n",
        "    def get_results(self):\n",
        "        \"\"\"\n",
        "        Renvoie les résultats de la simulation sous forme de dictionnaire.\n",
        "        \"\"\"\n",
        "        return {\n",
        "            'lambda': self.lambda_rate,\n",
        "            'mu': self.mu_rate,\n",
        "            'rho': self.utilization,\n",
        "            'theoretical_rho': self.theoretical_utilization,\n",
        "            'avg_waiting_time': self.avg_waiting_time,\n",
        "            'avg_response_time': self.avg_response_time,\n",
        "            'max_waiting_time': self.max_waiting_time,\n",
        "            'max_response_time': self.max_response_time,\n",
        "            'std_waiting_time': self.std_waiting_time,\n",
        "            'std_response_time': self.std_response_time,\n",
        "            'waiting_time_95th': self.waiting_time_95th,\n",
        "            'response_time_95th': self.response_time_95th,\n",
        "            'num_customers': self.num_customers,\n",
        "            'simulation_time': self.total_simulation_time\n",
        "        }\n",
        "\n",
        "    def print_summary(self):\n",
        "        \"\"\"\n",
        "        Affiche un résumé des résultats de simulation.\n",
        "        \"\"\"\n",
        "        print(f\"\\n{'='*50}\")\n",
        "        print(f\"RÉSULTATS DE SIMULATION - {self.__class__.__name__}\")\n",
        "        print(f\"{'='*50}\")\n",
        "        print(f\"Paramètres:\")\n",
        "        print(f\"  λ (taux d'arrivée): {self.lambda_rate}\")\n",
        "        print(f\"  μ (taux de service): {self.mu_rate}\")\n",
        "        print(f\"  Nombre de clients: {self.num_customers}\")\n",
        "        print(f\"\\nMétriques principales:\")\n",
        "        print(f\"  Taux d'occupation (ρ): {self.utilization:.4f}\")\n",
        "        print(f\"  Temps d'attente moyen: {self.avg_waiting_time:.4f}\")\n",
        "        print(f\"  Temps de réponse moyen: {self.avg_response_time:.4f}\")\n",
        "        print(f\"\\nMétriques de variabilité:\")\n",
        "        print(f\"  Écart-type temps d'attente: {self.std_waiting_time:.4f}\")\n",
        "        print(f\"  Écart-type temps de réponse: {self.std_response_time:.4f}\")\n",
        "        print(f\"  95e percentile temps d'attente: {self.waiting_time_95th:.4f}\")\n",
        "        print(f\"  95e percentile temps de réponse: {self.response_time_95th:.4f}\")\n"
      ],
      "metadata": {
        "id": "YcGiK82VB_Jf"
      },
      "execution_count": 37,
      "outputs": []
    },
    {
      "cell_type": "code",
      "source": [
        "\n",
        "\n",
        "class MG1Simulator(QueueSimulator):\n",
        "    \"\"\"\n",
        "    Simulateur pour le système M/G/1 où:\n",
        "    - Les arrivées suivent une loi exponentielle (M)\n",
        "    - Les temps de service suivent une loi générale (G)\n",
        "    - Il y a un seul serveur (1)\n",
        "\n",
        "    Pour ce simulateur, nous utiliserons une distribution gamma\n",
        "    comme exemple de loi générale pour les services.\n",
        "    \"\"\"\n",
        "    def __init__(self, lambda_rate, mu_rate, shape=2.0, num_customers=1000000, seed=42):\n",
        "        super().__init__(lambda_rate, mu_rate, num_customers, seed)\n",
        "        self.shape = shape  # Paramètre de forme pour la distribution gamma\n",
        "\n",
        "        # Ajuster l'échelle pour que la moyenne soit 1/mu_rate\n",
        "        # Pour Gamma: moyenne = shape * scale\n",
        "        self.scale = 1.0 / (mu_rate * shape)\n",
        "\n",
        "    def generate_interarrival_time(self):\n",
        "        \"\"\"\n",
        "        Génère un temps inter-arrivée selon une distribution exponentielle.\n",
        "\n",
        "        Returns:\n",
        "            float: Temps jusqu'à la prochaine arrivée\n",
        "        \"\"\"\n",
        "        return self.rng.exponential(scale=1/self.lambda_rate)\n",
        "\n",
        "    def generate_service_time(self):\n",
        "        \"\"\"\n",
        "        Génère un temps de service selon une distribution gamma.\n",
        "\n",
        "        Returns:\n",
        "            float: Temps de service pour le client\n",
        "        \"\"\"\n",
        "        return self.rng.gamma(shape=self.shape, scale=self.scale)\n",
        "\n",
        "    def get_theoretical_metrics(self):\n",
        "        \"\"\"\n",
        "        Calcule les métriques théoriques pour le système M/G/1\n",
        "        en utilisant la formule de Pollaczek-Khinchine.\n",
        "\n",
        "        Returns:\n",
        "            dict: Métriques théoriques\n",
        "        \"\"\"\n",
        "        rho = self.lambda_rate / self.mu_rate\n",
        "\n",
        "        # Vérifier que le système est stable\n",
        "        if rho >= 1:\n",
        "            return {\n",
        "                'rho': rho,\n",
        "                'avg_waiting_time': float('inf'),\n",
        "                'avg_response_time': float('inf'),\n",
        "                'avg_queue_length': float('inf')\n",
        "            }\n",
        "\n",
        "        # Variance du temps de service (pour la distribution gamma)\n",
        "        var_service = self.shape * self.scale**2\n",
        "\n",
        "        # Formule de Pollaczek-Khinchine\n",
        "        avg_waiting_time = (self.lambda_rate * ((1/self.mu_rate)**2 + var_service)) / (2 * (1 - rho))\n",
        "        avg_response_time = avg_waiting_time + 1/self.mu_rate\n",
        "        avg_queue_length = self.lambda_rate * avg_waiting_time\n",
        "\n",
        "        return {\n",
        "            'rho': rho,\n",
        "            'avg_waiting_time': avg_waiting_time,\n",
        "            'avg_response_time': avg_response_time,\n",
        "            'avg_queue_length': avg_queue_length\n",
        "        }\n"
      ],
      "metadata": {
        "id": "jQSt6v3SCCGE"
      },
      "execution_count": 38,
      "outputs": []
    },
    {
      "cell_type": "code",
      "source": [
        "def run_mg1_experiment(lambda_values, mu=1.0, shape=2.0, num_customers=1000000, num_runs=5, save_csv=True, output_dir=\"results\"):\n",
        "    \"\"\"\n",
        "    Exécute une série d'expériences M/G/1 avec différentes valeurs de λ et exporte les résultats vers un fichier CSV.\n",
        "\n",
        "    Args:\n",
        "        lambda_values: Liste des valeurs λ à tester\n",
        "        mu: Taux de service μ\n",
        "        shape: Paramètre de forme pour la distribution gamma\n",
        "        num_customers: Nombre de clients à simuler pour chaque expérience\n",
        "        num_runs: Nombre d'exécutions pour chaque expérience\n",
        "        save_csv: Booléen pour décider de sauvegarder les résultats en CSV\n",
        "        output_dir: Dossier de sortie pour les fichiers CSV\n",
        "\n",
        "    Returns:\n",
        "        DataFrame contenant les résultats moyennés\n",
        "    \"\"\"\n",
        "    results = []\n",
        "\n",
        "    print(f\"\\nExécution d'expériences M/G/1\")\n",
        "    print(f\"Lambda de {min(lambda_values)} à {max(lambda_values)}, μ = {mu}, shape = {shape}\")\n",
        "\n",
        "    for lambda_val in tqdm(lambda_values, desc=\"Simulation M/G/1\"):\n",
        "        if lambda_val >= mu:\n",
        "            print(f\"⚠️ Attention: λ={lambda_val} >= μ={mu}, les résultats peuvent être instables\")\n",
        "\n",
        "        run_results = []\n",
        "\n",
        "        for run in range(num_runs):\n",
        "            simulator = MG1Simulator(\n",
        "                lambda_val, mu,\n",
        "                shape=shape,\n",
        "                num_customers=num_customers,\n",
        "                seed=42+run\n",
        "            )\n",
        "            simulator.run_simulation()\n",
        "            run_results.append(simulator.get_results())\n",
        "\n",
        "        avg_result = {\n",
        "            'lambda': lambda_val,\n",
        "            'mu': mu,\n",
        "            'shape': shape,\n",
        "            'rho': np.mean([r['rho'] for r in run_results]),\n",
        "            'theoretical_rho': lambda_val / mu,\n",
        "            'avg_waiting_time': np.mean([r['avg_waiting_time'] for r in run_results]),\n",
        "            'avg_response_time': np.mean([r['avg_response_time'] for r in run_results]),\n",
        "            'std_waiting_time': np.std([r['avg_waiting_time'] for r in run_results]),\n",
        "            'std_response_time': np.std([r['avg_response_time'] for r in run_results]),\n",
        "            'max_waiting_time': np.mean([r['max_waiting_time'] for r in run_results]),\n",
        "            'max_response_time': np.mean([r['max_response_time'] for r in run_results]),\n",
        "            'waiting_time_95th': np.mean([r['waiting_time_95th'] for r in run_results]),\n",
        "            'response_time_95th': np.mean([r['response_time_95th'] for r in run_results])\n",
        "        }\n",
        "\n",
        "        results.append(avg_result)\n",
        "\n",
        "    df_results = pd.DataFrame(results)\n",
        "\n",
        "    if save_csv:\n",
        "        os.makedirs(output_dir, exist_ok=True)\n",
        "        timestamp = datetime.now().strftime(\"%Y%m%d_%H%M%S\")\n",
        "        filename = f\"MG1_lambda{min(lambda_values)}-{max(lambda_values)}_mu{mu}_shape{shape}_{timestamp}.csv\"\n",
        "        filepath = os.path.join(output_dir, filename)\n",
        "        df_results.to_csv(filepath, index=False)\n",
        "        print(f\"\\n✅ Résultats sauvegardés dans : {filepath}\")\n",
        "\n",
        "    return df_results\n"
      ],
      "metadata": {
        "id": "rK9OfoJSCE4G"
      },
      "execution_count": 39,
      "outputs": []
    },
    {
      "cell_type": "code",
      "source": [
        "def plot_mg1_metrics(results, title_suffix=\"\"):\n",
        "    \"\"\"\n",
        "    Trace les métriques M/G/1 en fonction du taux d'occupation.\n",
        "\n",
        "    Args:\n",
        "        results: DataFrame des résultats M/G/1\n",
        "        title_suffix: Suffixe à ajouter aux titres\n",
        "\n",
        "    Returns:\n",
        "        Figure matplotlib créée\n",
        "    \"\"\"\n",
        "    fig, ax = plt.subplots(2, 2, figsize=(15, 12))\n",
        "\n",
        "    # Temps de réponse vs ρ\n",
        "    ax[0,0].plot(results['rho'], results['avg_response_time'], 'o-',\n",
        "                 linewidth=2, markersize=8, color='blue')\n",
        "    ax[0,0].set_xlabel('Taux d\\'occupation (ρ)')\n",
        "    ax[0,0].set_ylabel('Temps de réponse moyen')\n",
        "    ax[0,0].set_title(f'Temps de réponse moyen vs ρ - M/G/1{title_suffix}')\n",
        "    ax[0,0].grid(True, alpha=0.3)\n",
        "\n",
        "    # Temps d'attente vs ρ\n",
        "    ax[0,1].plot(results['rho'], results['avg_waiting_time'], 'o-',\n",
        "                 linewidth=2, markersize=8, color='red')\n",
        "    ax[0,1].set_xlabel('Taux d\\'occupation (ρ)')\n",
        "    ax[0,1].set_ylabel('Temps d\\'attente moyen')\n",
        "    ax[0,1].set_title(f'Temps d\\'attente moyen vs ρ - M/G/1{title_suffix}')\n",
        "    ax[0,1].grid(True, alpha=0.3)\n",
        "\n",
        "    # Temps de réponse vs λ\n",
        "    ax[1,0].plot(results['lambda'], results['avg_response_time'], 's-',\n",
        "                 linewidth=2, markersize=8, color='green')\n",
        "    ax[1,0].set_xlabel('Taux d\\'arrivée (λ)')\n",
        "    ax[1,0].set_ylabel('Temps de réponse moyen')\n",
        "    ax[1,0].set_title(f'Temps de réponse moyen vs λ - M/G/1{title_suffix}')\n",
        "    ax[1,0].grid(True, alpha=0.3)\n",
        "\n",
        "    # 95e percentile temps d'attente vs ρ\n",
        "    ax[1,1].plot(results['rho'], results['waiting_time_95th'], '^-',\n",
        "                 linewidth=2, markersize=8, color='purple')\n",
        "    ax[1,1].set_xlabel('Taux d\\'occupation (ρ)')\n",
        "    ax[1,1].set_ylabel('95e percentile temps d\\'attente')\n",
        "    ax[1,1].set_title(f'95e percentile temps d\\'attente vs ρ - M/G/1{title_suffix}')\n",
        "    ax[1,1].grid(True, alpha=0.3)\n",
        "\n",
        "    plt.tight_layout()\n",
        "    return fig\n",
        "\n"
      ],
      "metadata": {
        "id": "pqdJ7p5wCH8r"
      },
      "execution_count": 40,
      "outputs": []
    },
    {
      "cell_type": "code",
      "source": [
        "def compare_mg1_shapes(lambda_values, mu, shapes, num_customers, num_runs, output_dir=\"results\"):\n",
        "    \"\"\"\n",
        "    Compare plusieurs formes de distributions pour un système M/G/1.\n",
        "\n",
        "    Args:\n",
        "        lambda_values: Liste de valeurs λ\n",
        "        mu: Taux de service\n",
        "        shapes: Liste de formes à tester\n",
        "        num_customers: Nombre de clients par exécution\n",
        "        num_runs: Nombre d'exécutions\n",
        "        output_dir: Dossier où sauvegarder les CSV\n",
        "\n",
        "    Returns:\n",
        "        Dictionnaire des DataFrames de résultats par forme.\n",
        "    \"\"\"\n",
        "    results_by_shape = {}\n",
        "\n",
        "    for shape in shapes:\n",
        "        print(f\"\\n🔍 Simulation M/G/1 avec shape = {shape}\")\n",
        "        df = run_mg1_experiment(\n",
        "            lambda_values, mu=mu, shape=shape,\n",
        "            num_customers=num_customers, num_runs=num_runs,\n",
        "            save_csv=True, output_dir=output_dir\n",
        "        )\n",
        "        results_by_shape[shape] = df\n",
        "\n",
        "    return results_by_shape\n"
      ],
      "metadata": {
        "id": "cg86nNysCKBp"
      },
      "execution_count": 41,
      "outputs": []
    },
    {
      "cell_type": "code",
      "source": [
        "\n",
        "\n",
        "def plot_shape_comparison(results_by_shape, metric='avg_response_time'):\n",
        "    \"\"\"\n",
        "    Trace une comparaison des résultats M/G/1 pour différentes formes.\n",
        "\n",
        "    Args:\n",
        "        results_by_shape: Dict contenant les résultats pour chaque forme\n",
        "        metric: Métrique à comparer\n",
        "\n",
        "    Returns:\n",
        "        Figure matplotlib créée\n",
        "    \"\"\"\n",
        "    plt.figure(figsize=(12, 8))\n",
        "\n",
        "    colors = ['blue', 'red', 'green', 'purple', 'orange', 'brown']\n",
        "    markers = ['o', 's', '^', 'D', 'v', 'p']\n",
        "\n",
        "    for i, (shape, results) in enumerate(results_by_shape.items()):\n",
        "        color = colors[i % len(colors)]\n",
        "        marker = markers[i % len(markers)]\n",
        "\n",
        "        plt.plot(results['lambda'], results[metric],\n",
        "                marker=marker, linestyle='-', linewidth=2, markersize=8,\n",
        "                label=f'Shape = {shape}', color=color)\n",
        "\n",
        "    plt.xlabel('Taux d\\'arrivée (λ)')\n",
        "    plt.ylabel(metric.replace('_', ' ').title())\n",
        "    plt.title(f'Comparaison M/G/1: {metric.replace(\"_\", \" \").title()} vs λ pour différentes formes')\n",
        "    plt.grid(True, alpha=0.3)\n",
        "    plt.legend()\n",
        "    plt.tight_layout()\n",
        "\n",
        "    return plt.gcf()\n"
      ],
      "metadata": {
        "id": "sCyALhPtCM1o"
      },
      "execution_count": 42,
      "outputs": []
    },
    {
      "cell_type": "code",
      "source": [
        "def main():\n",
        "    \"\"\"\n",
        "    Fonction principale pour exécuter les simulations M/G/1.\n",
        "    \"\"\"\n",
        "    print(\"🚀 Démarrage de la simulation M/G/1...\")\n",
        "    print(f\"{'='*50}\")\n",
        "\n",
        "\n",
        "    start_time = time.time()\n",
        "\n",
        "    # Répertoires de sortie\n",
        "    output_dir = \"results\"\n",
        "    graphs_dir = \"graphs\"\n",
        "\n",
        "    os.makedirs(output_dir, exist_ok=True)\n",
        "    os.makedirs(graphs_dir, exist_ok=True)\n",
        "\n",
        "    # Paramètres de simulation\n",
        "    lambda_values = np.arange(0.1, 0.95, 0.1)  # Taux d'arrivée\n",
        "    mu = 1.0  # Taux de service fixe\n",
        "    num_customers = 100000  # Nombre de clients par simulation\n",
        "    num_runs = 3  # Nombre d'exécutions par configuration\n",
        "\n",
        "    print(f\"Démarrage des simulations M/G/1 avec {num_customers} clients par exécution...\")\n",
        "\n",
        "    # Test simple avec un seul simulateur\n",
        "    print(\"\\nTest M/G/1 avec shape=2.0:\")\n",
        "    mg1 = MG1Simulator(0.8, 1.0, shape=2.0, num_customers=50000, seed=42)\n",
        "    mg1.run_simulation()\n",
        "    mg1.print_summary()\n",
        "\n",
        "    # Comparaison avec les valeurs théoriques\n",
        "    theoretical_mg1 = mg1.get_theoretical_metrics()\n",
        "    print(f\"\\nComparaison théorique vs simulation (M/G/1):\")\n",
        "    print(f\"Temps d'attente - Théorique: {theoretical_mg1['avg_waiting_time']:.4f}, Simulé: {mg1.avg_waiting_time:.4f}\")\n",
        "    print(f\"Temps de réponse - Théorique: {theoretical_mg1['avg_response_time']:.4f}, Simulé: {mg1.avg_response_time:.4f}\")\n",
        "\n",
        "    # Expériences avec différentes formes\n",
        "    shapes_to_test = [0.5, 1.0, 2.0, 4.0]\n",
        "    print(f\"\\nComparaison de différentes formes: {shapes_to_test}\")\n",
        "\n",
        "    results_by_shape = compare_mg1_shapes(\n",
        "        lambda_values, mu, shapes_to_test, num_customers, num_runs, output_dir\n",
        "    )\n",
        "\n",
        "    # Affichage des résultats\n",
        "    for shape, results in results_by_shape.items():\n",
        "        print(f\"\\nRésultats M/G/1 (shape={shape}):\")\n",
        "        print(results[['lambda', 'rho', 'avg_waiting_time', 'avg_response_time']].head())\n",
        "\n",
        "    # Création des graphiques\n",
        "    print(\"\\nCréation des graphiques...\")\n",
        "\n",
        "    # Graphique pour shape=2.0\n",
        "    if 2.0 in results_by_shape:\n",
        "        fig1 = plot_mg1_metrics(results_by_shape[2.0], \" (shape=2.0)\")\n",
        "        fig1_path = os.path.join(graphs_dir, 'mg1_metrics_shape2.png')\n",
        "        plt.savefig(fig1_path, dpi=300, bbox_inches='tight')\n",
        "        print(f\"Graphique sauvegardé: {fig1_path}\")\n",
        "\n",
        "    # Comparaison des différentes formes - temps de réponse\n",
        "    fig2 = plot_shape_comparison(results_by_shape, 'avg_response_time')\n",
        "    fig2_path = os.path.join(graphs_dir, 'mg1_shape_comparison_response_time.png')\n",
        "    plt.savefig(fig2_path, dpi=300, bbox_inches='tight')\n",
        "    print(f\"Graphique sauvegardé: {fig2_path}\")\n",
        "\n",
        "    # Comparaison des différentes formes - temps d'attente\n",
        "    fig3 = plot_shape_comparison(results_by_shape, 'avg_waiting_time')\n",
        "    fig3_path = os.path.join(graphs_dir, 'mg1_shape_comparison_waiting_time.png')\n",
        "    plt.savefig(fig3_path, dpi=300, bbox_inches='tight')\n",
        "    print(f\"Graphique sauvegardé: {fig3_path}\")\n",
        "\n",
        "    end_time = time.time()\n",
        "    print(f\"\\nTemps total d'exécution: {end_time - start_time:.2f} secondes\")\n",
        "    print(\"Simulation M/G/1 terminée avec succès!\")\n"
      ],
      "metadata": {
        "id": "YHPBt7ILCQhy"
      },
      "execution_count": 43,
      "outputs": []
    },
    {
      "cell_type": "code",
      "source": [
        "\n",
        "if __name__ == \"__main__\":\n",
        "    main()\n",
        "\n",
        "\n",
        "\n",
        "print(f\"\\n✅ Tous les fichiers CSV sont disponibles dans le dossier : {output_dir}\")\n"
      ],
      "metadata": {
        "colab": {
          "base_uri": "https://localhost:8080/",
          "height": 1000
        },
        "id": "dlip-ZJvwc2t",
        "outputId": "6e00c3e0-5acb-426e-a3dd-be0c63eb52fa"
      },
      "execution_count": 44,
      "outputs": [
        {
          "output_type": "stream",
          "name": "stdout",
          "text": [
            "🚀 Démarrage de la simulation M/G/1...\n",
            "==================================================\n",
            "Démarrage des simulations M/G/1 avec 100000 clients par exécution...\n",
            "\n",
            "Test M/G/1 avec shape=2.0:\n",
            "Démarrage de la simulation avec 50000 clients...\n"
          ]
        },
        {
          "output_type": "stream",
          "name": "stderr",
          "text": [
            "Simulation en cours: 100%|██████████| 50000/50000 [00:00<00:00, 257867.59it/s]\n"
          ]
        },
        {
          "output_type": "stream",
          "name": "stdout",
          "text": [
            "\n",
            "==================================================\n",
            "RÉSULTATS DE SIMULATION - MG1Simulator\n",
            "==================================================\n",
            "Paramètres:\n",
            "  λ (taux d'arrivée): 0.8\n",
            "  μ (taux de service): 1.0\n",
            "  Nombre de clients: 50000\n",
            "\n",
            "Métriques principales:\n",
            "  Taux d'occupation (ρ): 0.8060\n",
            "  Temps d'attente moyen: 3.0173\n",
            "  Temps de réponse moyen: 4.0209\n",
            "\n",
            "Métriques de variabilité:\n",
            "  Écart-type temps d'attente: 3.4992\n",
            "  Écart-type temps de réponse: 3.5664\n",
            "  95e percentile temps d'attente: 9.9459\n",
            "  95e percentile temps de réponse: 11.0400\n",
            "\n",
            "Comparaison théorique vs simulation (M/G/1):\n",
            "Temps d'attente - Théorique: 3.0000, Simulé: 3.0173\n",
            "Temps de réponse - Théorique: 4.0000, Simulé: 4.0209\n",
            "\n",
            "Comparaison de différentes formes: [0.5, 1.0, 2.0, 4.0]\n",
            "\n",
            "🔍 Simulation M/G/1 avec shape = 0.5\n",
            "\n",
            "Exécution d'expériences M/G/1\n",
            "Lambda de 0.1 à 0.9, μ = 1.0, shape = 0.5\n"
          ]
        },
        {
          "output_type": "stream",
          "name": "stderr",
          "text": [
            "\rSimulation M/G/1:   0%|          | 0/9 [00:00<?, ?it/s]"
          ]
        },
        {
          "output_type": "stream",
          "name": "stdout",
          "text": [
            "Démarrage de la simulation avec 100000 clients...\n"
          ]
        },
        {
          "output_type": "stream",
          "name": "stderr",
          "text": [
            "\n",
            "Simulation en cours:   0%|          | 0/100000 [00:00<?, ?it/s]\u001b[A\n",
            "Simulation en cours:  28%|██▊       | 27576/100000 [00:00<00:00, 275740.54it/s]\u001b[A\n",
            "Simulation en cours:  55%|█████▌    | 55151/100000 [00:00<00:00, 267408.81it/s]\u001b[A\n",
            "Simulation en cours: 100%|██████████| 100000/100000 [00:00<00:00, 257824.95it/s]\n"
          ]
        },
        {
          "output_type": "stream",
          "name": "stdout",
          "text": [
            "Démarrage de la simulation avec 100000 clients...\n"
          ]
        },
        {
          "output_type": "stream",
          "name": "stderr",
          "text": [
            "\n",
            "Simulation en cours:   0%|          | 0/100000 [00:00<?, ?it/s]\u001b[A\n",
            "Simulation en cours:  23%|██▎       | 22926/100000 [00:00<00:00, 229242.18it/s]\u001b[A\n",
            "Simulation en cours:  49%|████▉     | 49241/100000 [00:00<00:00, 249175.23it/s]\u001b[A\n",
            "Simulation en cours: 100%|██████████| 100000/100000 [00:00<00:00, 249674.77it/s]\n"
          ]
        },
        {
          "output_type": "stream",
          "name": "stdout",
          "text": [
            "Démarrage de la simulation avec 100000 clients...\n"
          ]
        },
        {
          "output_type": "stream",
          "name": "stderr",
          "text": [
            "\n",
            "Simulation en cours:   0%|          | 0/100000 [00:00<?, ?it/s]\u001b[A\n",
            "Simulation en cours:  46%|████▌     | 45852/100000 [00:00<00:00, 458486.55it/s]\u001b[A\n",
            "Simulation en cours: 100%|██████████| 100000/100000 [00:00<00:00, 450705.78it/s]\n",
            "Simulation M/G/1:  11%|█         | 1/9 [00:01<00:14,  1.75s/it]"
          ]
        },
        {
          "output_type": "stream",
          "name": "stdout",
          "text": [
            "Démarrage de la simulation avec 100000 clients...\n"
          ]
        },
        {
          "output_type": "stream",
          "name": "stderr",
          "text": [
            "\n",
            "Simulation en cours:   0%|          | 0/100000 [00:00<?, ?it/s]\u001b[A\n",
            "Simulation en cours:  44%|████▍     | 43784/100000 [00:00<00:00, 437780.92it/s]\u001b[A\n",
            "Simulation en cours: 100%|██████████| 100000/100000 [00:00<00:00, 439661.42it/s]\n"
          ]
        },
        {
          "output_type": "stream",
          "name": "stdout",
          "text": [
            "Démarrage de la simulation avec 100000 clients...\n"
          ]
        },
        {
          "output_type": "stream",
          "name": "stderr",
          "text": [
            "\n",
            "Simulation en cours:   0%|          | 0/100000 [00:00<?, ?it/s]\u001b[A\n",
            "Simulation en cours:  46%|████▌     | 46218/100000 [00:00<00:00, 462154.00it/s]\u001b[A\n",
            "Simulation en cours: 100%|██████████| 100000/100000 [00:00<00:00, 443526.77it/s]\n"
          ]
        },
        {
          "output_type": "stream",
          "name": "stdout",
          "text": [
            "Démarrage de la simulation avec 100000 clients...\n"
          ]
        },
        {
          "output_type": "stream",
          "name": "stderr",
          "text": [
            "\n",
            "Simulation en cours:   0%|          | 0/100000 [00:00<?, ?it/s]\u001b[A\n",
            "Simulation en cours:  45%|████▌     | 45242/100000 [00:00<00:00, 452384.84it/s]\u001b[A\n",
            "Simulation en cours: 100%|██████████| 100000/100000 [00:00<00:00, 446867.15it/s]\n",
            "Simulation M/G/1:  22%|██▏       | 2/9 [00:02<00:09,  1.39s/it]"
          ]
        },
        {
          "output_type": "stream",
          "name": "stdout",
          "text": [
            "Démarrage de la simulation avec 100000 clients...\n"
          ]
        },
        {
          "output_type": "stream",
          "name": "stderr",
          "text": [
            "\n",
            "Simulation en cours:   0%|          | 0/100000 [00:00<?, ?it/s]\u001b[A\n",
            "Simulation en cours:  42%|████▏     | 41620/100000 [00:00<00:00, 416174.60it/s]\u001b[A\n",
            "Simulation en cours: 100%|██████████| 100000/100000 [00:00<00:00, 419044.46it/s]\n"
          ]
        },
        {
          "output_type": "stream",
          "name": "stdout",
          "text": [
            "Démarrage de la simulation avec 100000 clients...\n"
          ]
        },
        {
          "output_type": "stream",
          "name": "stderr",
          "text": [
            "\n",
            "Simulation en cours:   0%|          | 0/100000 [00:00<?, ?it/s]\u001b[A\n",
            "Simulation en cours:  45%|████▌     | 45274/100000 [00:00<00:00, 452711.29it/s]\u001b[A\n",
            "Simulation en cours: 100%|██████████| 100000/100000 [00:00<00:00, 411718.50it/s]\n"
          ]
        },
        {
          "output_type": "stream",
          "name": "stdout",
          "text": [
            "Démarrage de la simulation avec 100000 clients...\n"
          ]
        },
        {
          "output_type": "stream",
          "name": "stderr",
          "text": [
            "\n",
            "Simulation en cours:   0%|          | 0/100000 [00:00<?, ?it/s]\u001b[A\n",
            "Simulation en cours:  46%|████▌     | 46002/100000 [00:00<00:00, 459988.63it/s]\u001b[A\n",
            "Simulation en cours: 100%|██████████| 100000/100000 [00:00<00:00, 450317.69it/s]\n",
            "Simulation M/G/1:  33%|███▎      | 3/9 [00:04<00:07,  1.28s/it]"
          ]
        },
        {
          "output_type": "stream",
          "name": "stdout",
          "text": [
            "Démarrage de la simulation avec 100000 clients...\n"
          ]
        },
        {
          "output_type": "stream",
          "name": "stderr",
          "text": [
            "\n",
            "Simulation en cours:   0%|          | 0/100000 [00:00<?, ?it/s]\u001b[A\n",
            "Simulation en cours:  43%|████▎     | 43349/100000 [00:00<00:00, 433467.68it/s]\u001b[A\n",
            "Simulation en cours: 100%|██████████| 100000/100000 [00:00<00:00, 431028.52it/s]\n"
          ]
        },
        {
          "output_type": "stream",
          "name": "stdout",
          "text": [
            "Démarrage de la simulation avec 100000 clients...\n"
          ]
        },
        {
          "output_type": "stream",
          "name": "stderr",
          "text": [
            "\n",
            "Simulation en cours:   0%|          | 0/100000 [00:00<?, ?it/s]\u001b[A\n",
            "Simulation en cours:  37%|███▋      | 37468/100000 [00:00<00:00, 374649.99it/s]\u001b[A\n",
            "Simulation en cours: 100%|██████████| 100000/100000 [00:00<00:00, 414015.08it/s]\n"
          ]
        },
        {
          "output_type": "stream",
          "name": "stdout",
          "text": [
            "Démarrage de la simulation avec 100000 clients...\n"
          ]
        },
        {
          "output_type": "stream",
          "name": "stderr",
          "text": [
            "\n",
            "Simulation en cours:   0%|          | 0/100000 [00:00<?, ?it/s]\u001b[A\n",
            "Simulation en cours:  45%|████▌     | 45423/100000 [00:00<00:00, 454204.44it/s]\u001b[A\n",
            "Simulation en cours: 100%|██████████| 100000/100000 [00:00<00:00, 431943.81it/s]\n",
            "Simulation M/G/1:  44%|████▍     | 4/9 [00:05<00:06,  1.22s/it]"
          ]
        },
        {
          "output_type": "stream",
          "name": "stdout",
          "text": [
            "Démarrage de la simulation avec 100000 clients...\n"
          ]
        },
        {
          "output_type": "stream",
          "name": "stderr",
          "text": [
            "\n",
            "Simulation en cours:   0%|          | 0/100000 [00:00<?, ?it/s]\u001b[A\n",
            "Simulation en cours:  44%|████▍     | 43821/100000 [00:00<00:00, 438179.08it/s]\u001b[A\n",
            "Simulation en cours: 100%|██████████| 100000/100000 [00:00<00:00, 437600.45it/s]\n"
          ]
        },
        {
          "output_type": "stream",
          "name": "stdout",
          "text": [
            "Démarrage de la simulation avec 100000 clients...\n"
          ]
        },
        {
          "output_type": "stream",
          "name": "stderr",
          "text": [
            "\n",
            "Simulation en cours:   0%|          | 0/100000 [00:00<?, ?it/s]\u001b[A\n",
            "Simulation en cours:  45%|████▌     | 45169/100000 [00:00<00:00, 451655.97it/s]\u001b[A\n",
            "Simulation en cours: 100%|██████████| 100000/100000 [00:00<00:00, 441961.14it/s]\n"
          ]
        },
        {
          "output_type": "stream",
          "name": "stdout",
          "text": [
            "Démarrage de la simulation avec 100000 clients...\n"
          ]
        },
        {
          "output_type": "stream",
          "name": "stderr",
          "text": [
            "\n",
            "Simulation en cours:   0%|          | 0/100000 [00:00<?, ?it/s]\u001b[A\n",
            "Simulation en cours:  45%|████▍     | 44533/100000 [00:00<00:00, 445303.88it/s]\u001b[A\n",
            "Simulation en cours: 100%|██████████| 100000/100000 [00:00<00:00, 429357.58it/s]\n",
            "Simulation M/G/1:  56%|█████▌    | 5/9 [00:06<00:04,  1.20s/it]"
          ]
        },
        {
          "output_type": "stream",
          "name": "stdout",
          "text": [
            "Démarrage de la simulation avec 100000 clients...\n"
          ]
        },
        {
          "output_type": "stream",
          "name": "stderr",
          "text": [
            "\n",
            "Simulation en cours:   0%|          | 0/100000 [00:00<?, ?it/s]\u001b[A\n",
            "Simulation en cours:  45%|████▍     | 44599/100000 [00:00<00:00, 445962.78it/s]\u001b[A\n",
            "Simulation en cours: 100%|██████████| 100000/100000 [00:00<00:00, 405725.79it/s]\n"
          ]
        },
        {
          "output_type": "stream",
          "name": "stdout",
          "text": [
            "Démarrage de la simulation avec 100000 clients...\n"
          ]
        },
        {
          "output_type": "stream",
          "name": "stderr",
          "text": [
            "\n",
            "Simulation en cours:   0%|          | 0/100000 [00:00<?, ?it/s]\u001b[A\n",
            "Simulation en cours:  45%|████▍     | 44583/100000 [00:00<00:00, 445811.29it/s]\u001b[A\n",
            "Simulation en cours: 100%|██████████| 100000/100000 [00:00<00:00, 429927.95it/s]\n"
          ]
        },
        {
          "output_type": "stream",
          "name": "stdout",
          "text": [
            "Démarrage de la simulation avec 100000 clients...\n"
          ]
        },
        {
          "output_type": "stream",
          "name": "stderr",
          "text": [
            "\n",
            "Simulation en cours:   0%|          | 0/100000 [00:00<?, ?it/s]\u001b[A\n",
            "Simulation en cours:  44%|████▍     | 43969/100000 [00:00<00:00, 439667.36it/s]\u001b[A\n",
            "Simulation en cours: 100%|██████████| 100000/100000 [00:00<00:00, 436563.33it/s]\n",
            "Simulation M/G/1:  67%|██████▋   | 6/9 [00:07<00:03,  1.18s/it]"
          ]
        },
        {
          "output_type": "stream",
          "name": "stdout",
          "text": [
            "Démarrage de la simulation avec 100000 clients...\n"
          ]
        },
        {
          "output_type": "stream",
          "name": "stderr",
          "text": [
            "\n",
            "Simulation en cours:   0%|          | 0/100000 [00:00<?, ?it/s]\u001b[A\n",
            "Simulation en cours:  40%|███▉      | 39633/100000 [00:00<00:00, 396289.75it/s]\u001b[A\n",
            "Simulation en cours: 100%|██████████| 100000/100000 [00:00<00:00, 399155.31it/s]\n"
          ]
        },
        {
          "output_type": "stream",
          "name": "stdout",
          "text": [
            "Démarrage de la simulation avec 100000 clients...\n"
          ]
        },
        {
          "output_type": "stream",
          "name": "stderr",
          "text": [
            "\n",
            "Simulation en cours:   0%|          | 0/100000 [00:00<?, ?it/s]\u001b[A\n",
            "Simulation en cours:  45%|████▌     | 45374/100000 [00:00<00:00, 453716.63it/s]\u001b[A\n",
            "Simulation en cours: 100%|██████████| 100000/100000 [00:00<00:00, 417721.50it/s]\n"
          ]
        },
        {
          "output_type": "stream",
          "name": "stdout",
          "text": [
            "Démarrage de la simulation avec 100000 clients...\n"
          ]
        },
        {
          "output_type": "stream",
          "name": "stderr",
          "text": [
            "\n",
            "Simulation en cours:   0%|          | 0/100000 [00:00<?, ?it/s]\u001b[A\n",
            "Simulation en cours:  41%|████▏     | 41457/100000 [00:00<00:00, 414530.86it/s]\u001b[A\n",
            "Simulation en cours: 100%|██████████| 100000/100000 [00:00<00:00, 411836.14it/s]\n",
            "Simulation M/G/1:  78%|███████▊  | 7/9 [00:08<00:02,  1.18s/it]"
          ]
        },
        {
          "output_type": "stream",
          "name": "stdout",
          "text": [
            "Démarrage de la simulation avec 100000 clients...\n"
          ]
        },
        {
          "output_type": "stream",
          "name": "stderr",
          "text": [
            "\n",
            "Simulation en cours:   0%|          | 0/100000 [00:00<?, ?it/s]\u001b[A\n",
            "Simulation en cours:  42%|████▏     | 42287/100000 [00:00<00:00, 422847.22it/s]\u001b[A\n",
            "Simulation en cours: 100%|██████████| 100000/100000 [00:00<00:00, 415319.98it/s]\n"
          ]
        },
        {
          "output_type": "stream",
          "name": "stdout",
          "text": [
            "Démarrage de la simulation avec 100000 clients...\n"
          ]
        },
        {
          "output_type": "stream",
          "name": "stderr",
          "text": [
            "\n",
            "Simulation en cours:   0%|          | 0/100000 [00:00<?, ?it/s]\u001b[A\n",
            "Simulation en cours:  44%|████▎     | 43575/100000 [00:00<00:00, 435728.60it/s]\u001b[A\n",
            "Simulation en cours: 100%|██████████| 100000/100000 [00:00<00:00, 433977.32it/s]\n"
          ]
        },
        {
          "output_type": "stream",
          "name": "stdout",
          "text": [
            "Démarrage de la simulation avec 100000 clients...\n"
          ]
        },
        {
          "output_type": "stream",
          "name": "stderr",
          "text": [
            "\n",
            "Simulation en cours:   0%|          | 0/100000 [00:00<?, ?it/s]\u001b[A\n",
            "Simulation en cours:  42%|████▏     | 42373/100000 [00:00<00:00, 423703.13it/s]\u001b[A\n",
            "Simulation en cours: 100%|██████████| 100000/100000 [00:00<00:00, 393883.14it/s]\n",
            "Simulation M/G/1:  89%|████████▉ | 8/9 [00:09<00:01,  1.19s/it]"
          ]
        },
        {
          "output_type": "stream",
          "name": "stdout",
          "text": [
            "Démarrage de la simulation avec 100000 clients...\n"
          ]
        },
        {
          "output_type": "stream",
          "name": "stderr",
          "text": [
            "\n",
            "Simulation en cours:   0%|          | 0/100000 [00:00<?, ?it/s]\u001b[A\n",
            "Simulation en cours:  42%|████▏     | 42161/100000 [00:00<00:00, 421589.29it/s]\u001b[A\n",
            "Simulation en cours: 100%|██████████| 100000/100000 [00:00<00:00, 415441.74it/s]\n"
          ]
        },
        {
          "output_type": "stream",
          "name": "stdout",
          "text": [
            "Démarrage de la simulation avec 100000 clients...\n"
          ]
        },
        {
          "output_type": "stream",
          "name": "stderr",
          "text": [
            "\n",
            "Simulation en cours:   0%|          | 0/100000 [00:00<?, ?it/s]\u001b[A\n",
            "Simulation en cours:  42%|████▏     | 42062/100000 [00:00<00:00, 420603.35it/s]\u001b[A\n",
            "Simulation en cours: 100%|██████████| 100000/100000 [00:00<00:00, 419462.70it/s]\n"
          ]
        },
        {
          "output_type": "stream",
          "name": "stdout",
          "text": [
            "Démarrage de la simulation avec 100000 clients...\n"
          ]
        },
        {
          "output_type": "stream",
          "name": "stderr",
          "text": [
            "\n",
            "Simulation en cours:   0%|          | 0/100000 [00:00<?, ?it/s]\u001b[A\n",
            "Simulation en cours:  36%|███▋      | 36483/100000 [00:00<00:00, 364812.08it/s]\u001b[A\n",
            "Simulation en cours: 100%|██████████| 100000/100000 [00:00<00:00, 403321.34it/s]\n",
            "Simulation M/G/1: 100%|██████████| 9/9 [00:11<00:00,  1.22s/it]\n"
          ]
        },
        {
          "output_type": "stream",
          "name": "stdout",
          "text": [
            "\n",
            "✅ Résultats sauvegardés dans : results/MG1_lambda0.1-0.9_mu1.0_shape0.5_20250523_121746.csv\n",
            "\n",
            "🔍 Simulation M/G/1 avec shape = 1.0\n",
            "\n",
            "Exécution d'expériences M/G/1\n",
            "Lambda de 0.1 à 0.9, μ = 1.0, shape = 1.0\n"
          ]
        },
        {
          "output_type": "stream",
          "name": "stderr",
          "text": [
            "\rSimulation M/G/1:   0%|          | 0/9 [00:00<?, ?it/s]"
          ]
        },
        {
          "output_type": "stream",
          "name": "stdout",
          "text": [
            "Démarrage de la simulation avec 100000 clients...\n"
          ]
        },
        {
          "output_type": "stream",
          "name": "stderr",
          "text": [
            "\n",
            "Simulation en cours:   0%|          | 0/100000 [00:00<?, ?it/s]\u001b[A\n",
            "Simulation en cours:  47%|████▋     | 47491/100000 [00:00<00:00, 474888.94it/s]\u001b[A\n",
            "Simulation en cours: 100%|██████████| 100000/100000 [00:00<00:00, 447075.30it/s]\n"
          ]
        },
        {
          "output_type": "stream",
          "name": "stdout",
          "text": [
            "Démarrage de la simulation avec 100000 clients...\n"
          ]
        },
        {
          "output_type": "stream",
          "name": "stderr",
          "text": [
            "\n",
            "Simulation en cours:   0%|          | 0/100000 [00:00<?, ?it/s]\u001b[A\n",
            "Simulation en cours:  26%|██▌       | 25861/100000 [00:00<00:00, 258589.90it/s]\u001b[A\n",
            "Simulation en cours:  52%|█████▏    | 51720/100000 [00:00<00:00, 257266.71it/s]\u001b[A\n",
            "Simulation en cours: 100%|██████████| 100000/100000 [00:00<00:00, 254971.49it/s]\n"
          ]
        },
        {
          "output_type": "stream",
          "name": "stdout",
          "text": [
            "Démarrage de la simulation avec 100000 clients...\n"
          ]
        },
        {
          "output_type": "stream",
          "name": "stderr",
          "text": [
            "\n",
            "Simulation en cours:   0%|          | 0/100000 [00:00<?, ?it/s]\u001b[A\n",
            "Simulation en cours:  26%|██▌       | 26027/100000 [00:00<00:00, 260241.71it/s]\u001b[A\n",
            "Simulation en cours:  53%|█████▎    | 53310/100000 [00:00<00:00, 267635.89it/s]\u001b[A\n",
            "Simulation en cours: 100%|██████████| 100000/100000 [00:00<00:00, 266763.17it/s]\n",
            "Simulation M/G/1:  11%|█         | 1/9 [00:01<00:13,  1.67s/it]"
          ]
        },
        {
          "output_type": "stream",
          "name": "stdout",
          "text": [
            "Démarrage de la simulation avec 100000 clients...\n"
          ]
        },
        {
          "output_type": "stream",
          "name": "stderr",
          "text": [
            "\n",
            "Simulation en cours:   0%|          | 0/100000 [00:00<?, ?it/s]\u001b[A\n",
            "Simulation en cours:  25%|██▌       | 25353/100000 [00:00<00:00, 253508.48it/s]\u001b[A\n",
            "Simulation en cours:  54%|█████▍    | 53807/100000 [00:00<00:00, 271750.02it/s]\u001b[A\n",
            "Simulation en cours: 100%|██████████| 100000/100000 [00:00<00:00, 270583.67it/s]\n"
          ]
        },
        {
          "output_type": "stream",
          "name": "stdout",
          "text": [
            "Démarrage de la simulation avec 100000 clients...\n"
          ]
        },
        {
          "output_type": "stream",
          "name": "stderr",
          "text": [
            "\n",
            "Simulation en cours:   0%|          | 0/100000 [00:00<?, ?it/s]\u001b[A\n",
            "Simulation en cours:  27%|██▋       | 27239/100000 [00:00<00:00, 272366.23it/s]\u001b[A\n",
            "Simulation en cours:  54%|█████▍    | 54476/100000 [00:00<00:00, 231944.79it/s]\u001b[A\n",
            "Simulation en cours: 100%|██████████| 100000/100000 [00:00<00:00, 244330.76it/s]\n"
          ]
        },
        {
          "output_type": "stream",
          "name": "stdout",
          "text": [
            "Démarrage de la simulation avec 100000 clients...\n"
          ]
        },
        {
          "output_type": "stream",
          "name": "stderr",
          "text": [
            "\n",
            "Simulation en cours:   0%|          | 0/100000 [00:00<?, ?it/s]\u001b[A\n",
            "Simulation en cours:  48%|████▊     | 47975/100000 [00:00<00:00, 479720.72it/s]\u001b[A\n",
            "Simulation en cours: 100%|██████████| 100000/100000 [00:00<00:00, 467129.98it/s]\n",
            "Simulation M/G/1:  22%|██▏       | 2/9 [00:03<00:12,  1.74s/it]"
          ]
        },
        {
          "output_type": "stream",
          "name": "stdout",
          "text": [
            "Démarrage de la simulation avec 100000 clients...\n"
          ]
        },
        {
          "output_type": "stream",
          "name": "stderr",
          "text": [
            "\n",
            "Simulation en cours:   0%|          | 0/100000 [00:00<?, ?it/s]\u001b[A\n",
            "Simulation en cours:  45%|████▍     | 44882/100000 [00:00<00:00, 448796.89it/s]\u001b[A\n",
            "Simulation en cours: 100%|██████████| 100000/100000 [00:00<00:00, 450175.11it/s]\n"
          ]
        },
        {
          "output_type": "stream",
          "name": "stdout",
          "text": [
            "Démarrage de la simulation avec 100000 clients...\n"
          ]
        },
        {
          "output_type": "stream",
          "name": "stderr",
          "text": [
            "\n",
            "Simulation en cours:   0%|          | 0/100000 [00:00<?, ?it/s]\u001b[A\n",
            "Simulation en cours:  40%|███▉      | 39764/100000 [00:00<00:00, 397608.15it/s]\u001b[A\n",
            "Simulation en cours: 100%|██████████| 100000/100000 [00:00<00:00, 416006.25it/s]\n"
          ]
        },
        {
          "output_type": "stream",
          "name": "stdout",
          "text": [
            "Démarrage de la simulation avec 100000 clients...\n"
          ]
        },
        {
          "output_type": "stream",
          "name": "stderr",
          "text": [
            "\n",
            "Simulation en cours:   0%|          | 0/100000 [00:00<?, ?it/s]\u001b[A\n",
            "Simulation en cours:  43%|████▎     | 43452/100000 [00:00<00:00, 434490.37it/s]\u001b[A\n",
            "Simulation en cours: 100%|██████████| 100000/100000 [00:00<00:00, 450480.20it/s]\n",
            "Simulation M/G/1:  33%|███▎      | 3/9 [00:04<00:08,  1.46s/it]"
          ]
        },
        {
          "output_type": "stream",
          "name": "stdout",
          "text": [
            "Démarrage de la simulation avec 100000 clients...\n"
          ]
        },
        {
          "output_type": "stream",
          "name": "stderr",
          "text": [
            "\n",
            "Simulation en cours:   0%|          | 0/100000 [00:00<?, ?it/s]\u001b[A\n",
            "Simulation en cours:  47%|████▋     | 46623/100000 [00:00<00:00, 466200.43it/s]\u001b[A\n",
            "Simulation en cours: 100%|██████████| 100000/100000 [00:00<00:00, 453899.53it/s]\n"
          ]
        },
        {
          "output_type": "stream",
          "name": "stdout",
          "text": [
            "Démarrage de la simulation avec 100000 clients...\n"
          ]
        },
        {
          "output_type": "stream",
          "name": "stderr",
          "text": [
            "\n",
            "Simulation en cours:   0%|          | 0/100000 [00:00<?, ?it/s]\u001b[A\n",
            "Simulation en cours:  46%|████▋     | 46295/100000 [00:00<00:00, 462930.57it/s]\u001b[A\n",
            "Simulation en cours: 100%|██████████| 100000/100000 [00:00<00:00, 446344.05it/s]\n"
          ]
        },
        {
          "output_type": "stream",
          "name": "stdout",
          "text": [
            "Démarrage de la simulation avec 100000 clients...\n"
          ]
        },
        {
          "output_type": "stream",
          "name": "stderr",
          "text": [
            "\n",
            "Simulation en cours:   0%|          | 0/100000 [00:00<?, ?it/s]\u001b[A\n",
            "Simulation en cours:  46%|████▌     | 46038/100000 [00:00<00:00, 460350.80it/s]\u001b[A\n",
            "Simulation en cours: 100%|██████████| 100000/100000 [00:00<00:00, 445296.80it/s]\n",
            "Simulation M/G/1:  44%|████▍     | 4/9 [00:05<00:06,  1.33s/it]"
          ]
        },
        {
          "output_type": "stream",
          "name": "stdout",
          "text": [
            "Démarrage de la simulation avec 100000 clients...\n"
          ]
        },
        {
          "output_type": "stream",
          "name": "stderr",
          "text": [
            "\n",
            "Simulation en cours:   0%|          | 0/100000 [00:00<?, ?it/s]\u001b[A\n",
            "Simulation en cours:  46%|████▌     | 46107/100000 [00:00<00:00, 461050.65it/s]\u001b[A\n",
            "Simulation en cours: 100%|██████████| 100000/100000 [00:00<00:00, 454080.36it/s]\n"
          ]
        },
        {
          "output_type": "stream",
          "name": "stdout",
          "text": [
            "Démarrage de la simulation avec 100000 clients...\n"
          ]
        },
        {
          "output_type": "stream",
          "name": "stderr",
          "text": [
            "\n",
            "Simulation en cours:   0%|          | 0/100000 [00:00<?, ?it/s]\u001b[A\n",
            "Simulation en cours:  45%|████▍     | 44734/100000 [00:00<00:00, 447311.63it/s]\u001b[A\n",
            "Simulation en cours: 100%|██████████| 100000/100000 [00:00<00:00, 395958.38it/s]\n"
          ]
        },
        {
          "output_type": "stream",
          "name": "stdout",
          "text": [
            "Démarrage de la simulation avec 100000 clients...\n"
          ]
        },
        {
          "output_type": "stream",
          "name": "stderr",
          "text": [
            "\n",
            "Simulation en cours:   0%|          | 0/100000 [00:00<?, ?it/s]\u001b[A\n",
            "Simulation en cours:  46%|████▌     | 45802/100000 [00:00<00:00, 457989.86it/s]\u001b[A\n",
            "Simulation en cours: 100%|██████████| 100000/100000 [00:00<00:00, 453919.67it/s]\n",
            "Simulation M/G/1:  56%|█████▌    | 5/9 [00:06<00:05,  1.27s/it]"
          ]
        },
        {
          "output_type": "stream",
          "name": "stdout",
          "text": [
            "Démarrage de la simulation avec 100000 clients...\n"
          ]
        },
        {
          "output_type": "stream",
          "name": "stderr",
          "text": [
            "\n",
            "Simulation en cours:   0%|          | 0/100000 [00:00<?, ?it/s]\u001b[A\n",
            "Simulation en cours:  45%|████▌     | 45074/100000 [00:00<00:00, 450710.34it/s]\u001b[A\n",
            "Simulation en cours: 100%|██████████| 100000/100000 [00:00<00:00, 414718.78it/s]\n"
          ]
        },
        {
          "output_type": "stream",
          "name": "stdout",
          "text": [
            "Démarrage de la simulation avec 100000 clients...\n"
          ]
        },
        {
          "output_type": "stream",
          "name": "stderr",
          "text": [
            "\n",
            "Simulation en cours:   0%|          | 0/100000 [00:00<?, ?it/s]\u001b[A\n",
            "Simulation en cours:  46%|████▋     | 46403/100000 [00:00<00:00, 464011.64it/s]\u001b[A\n",
            "Simulation en cours: 100%|██████████| 100000/100000 [00:00<00:00, 446811.45it/s]\n"
          ]
        },
        {
          "output_type": "stream",
          "name": "stdout",
          "text": [
            "Démarrage de la simulation avec 100000 clients...\n"
          ]
        },
        {
          "output_type": "stream",
          "name": "stderr",
          "text": [
            "\n",
            "Simulation en cours:   0%|          | 0/100000 [00:00<?, ?it/s]\u001b[A\n",
            "Simulation en cours:  46%|████▌     | 45521/100000 [00:00<00:00, 455180.05it/s]\u001b[A\n",
            "Simulation en cours: 100%|██████████| 100000/100000 [00:00<00:00, 451546.66it/s]\n",
            "Simulation M/G/1:  67%|██████▋   | 6/9 [00:08<00:03,  1.22s/it]"
          ]
        },
        {
          "output_type": "stream",
          "name": "stdout",
          "text": [
            "Démarrage de la simulation avec 100000 clients...\n"
          ]
        },
        {
          "output_type": "stream",
          "name": "stderr",
          "text": [
            "\n",
            "Simulation en cours:   0%|          | 0/100000 [00:00<?, ?it/s]\u001b[A\n",
            "Simulation en cours:  36%|███▋      | 36341/100000 [00:00<00:00, 363387.82it/s]\u001b[A\n",
            "Simulation en cours: 100%|██████████| 100000/100000 [00:00<00:00, 406110.78it/s]\n"
          ]
        },
        {
          "output_type": "stream",
          "name": "stdout",
          "text": [
            "Démarrage de la simulation avec 100000 clients...\n"
          ]
        },
        {
          "output_type": "stream",
          "name": "stderr",
          "text": [
            "\n",
            "Simulation en cours:   0%|          | 0/100000 [00:00<?, ?it/s]\u001b[A\n",
            "Simulation en cours:  45%|████▍     | 44541/100000 [00:00<00:00, 445383.88it/s]\u001b[A\n",
            "Simulation en cours: 100%|██████████| 100000/100000 [00:00<00:00, 433762.34it/s]\n"
          ]
        },
        {
          "output_type": "stream",
          "name": "stdout",
          "text": [
            "Démarrage de la simulation avec 100000 clients...\n"
          ]
        },
        {
          "output_type": "stream",
          "name": "stderr",
          "text": [
            "\n",
            "Simulation en cours:   0%|          | 0/100000 [00:00<?, ?it/s]\u001b[A\n",
            "Simulation en cours:  45%|████▍     | 44752/100000 [00:00<00:00, 447494.82it/s]\u001b[A\n",
            "Simulation en cours: 100%|██████████| 100000/100000 [00:00<00:00, 445617.09it/s]\n",
            "Simulation M/G/1:  78%|███████▊  | 7/9 [00:09<00:02,  1.19s/it]"
          ]
        },
        {
          "output_type": "stream",
          "name": "stdout",
          "text": [
            "Démarrage de la simulation avec 100000 clients...\n"
          ]
        },
        {
          "output_type": "stream",
          "name": "stderr",
          "text": [
            "\n",
            "Simulation en cours:   0%|          | 0/100000 [00:00<?, ?it/s]\u001b[A\n",
            "Simulation en cours:  44%|████▍     | 44076/100000 [00:00<00:00, 440740.45it/s]\u001b[A\n",
            "Simulation en cours: 100%|██████████| 100000/100000 [00:00<00:00, 435834.79it/s]\n"
          ]
        },
        {
          "output_type": "stream",
          "name": "stdout",
          "text": [
            "Démarrage de la simulation avec 100000 clients...\n"
          ]
        },
        {
          "output_type": "stream",
          "name": "stderr",
          "text": [
            "\n",
            "Simulation en cours:   0%|          | 0/100000 [00:00<?, ?it/s]\u001b[A\n",
            "Simulation en cours:  46%|████▌     | 45622/100000 [00:00<00:00, 456198.68it/s]\u001b[A\n",
            "Simulation en cours: 100%|██████████| 100000/100000 [00:00<00:00, 450152.40it/s]\n"
          ]
        },
        {
          "output_type": "stream",
          "name": "stdout",
          "text": [
            "Démarrage de la simulation avec 100000 clients...\n"
          ]
        },
        {
          "output_type": "stream",
          "name": "stderr",
          "text": [
            "\n",
            "Simulation en cours:   0%|          | 0/100000 [00:00<?, ?it/s]\u001b[A\n",
            "Simulation en cours:  45%|████▌     | 45138/100000 [00:00<00:00, 451353.53it/s]\u001b[A\n",
            "Simulation en cours: 100%|██████████| 100000/100000 [00:00<00:00, 414128.72it/s]\n",
            "Simulation M/G/1:  89%|████████▉ | 8/9 [00:10<00:01,  1.18s/it]"
          ]
        },
        {
          "output_type": "stream",
          "name": "stdout",
          "text": [
            "Démarrage de la simulation avec 100000 clients...\n"
          ]
        },
        {
          "output_type": "stream",
          "name": "stderr",
          "text": [
            "\n",
            "Simulation en cours:   0%|          | 0/100000 [00:00<?, ?it/s]\u001b[A\n",
            "Simulation en cours:  43%|████▎     | 43265/100000 [00:00<00:00, 432621.53it/s]\u001b[A\n",
            "Simulation en cours: 100%|██████████| 100000/100000 [00:00<00:00, 436954.00it/s]\n"
          ]
        },
        {
          "output_type": "stream",
          "name": "stdout",
          "text": [
            "Démarrage de la simulation avec 100000 clients...\n"
          ]
        },
        {
          "output_type": "stream",
          "name": "stderr",
          "text": [
            "\n",
            "Simulation en cours:   0%|          | 0/100000 [00:00<?, ?it/s]\u001b[A\n",
            "Simulation en cours:  45%|████▌     | 45169/100000 [00:00<00:00, 451664.59it/s]\u001b[A\n",
            "Simulation en cours: 100%|██████████| 100000/100000 [00:00<00:00, 446715.80it/s]\n"
          ]
        },
        {
          "output_type": "stream",
          "name": "stdout",
          "text": [
            "Démarrage de la simulation avec 100000 clients...\n"
          ]
        },
        {
          "output_type": "stream",
          "name": "stderr",
          "text": [
            "\n",
            "Simulation en cours:   0%|          | 0/100000 [00:00<?, ?it/s]\u001b[A\n",
            "Simulation en cours:  44%|████▍     | 44250/100000 [00:00<00:00, 442472.99it/s]\u001b[A\n",
            "Simulation en cours: 100%|██████████| 100000/100000 [00:00<00:00, 401724.01it/s]\n",
            "Simulation M/G/1: 100%|██████████| 9/9 [00:11<00:00,  1.27s/it]\n"
          ]
        },
        {
          "output_type": "stream",
          "name": "stdout",
          "text": [
            "\n",
            "✅ Résultats sauvegardés dans : results/MG1_lambda0.1-0.9_mu1.0_shape1.0_20250523_121757.csv\n",
            "\n",
            "🔍 Simulation M/G/1 avec shape = 2.0\n",
            "\n",
            "Exécution d'expériences M/G/1\n",
            "Lambda de 0.1 à 0.9, μ = 1.0, shape = 2.0\n"
          ]
        },
        {
          "output_type": "stream",
          "name": "stderr",
          "text": [
            "\rSimulation M/G/1:   0%|          | 0/9 [00:00<?, ?it/s]"
          ]
        },
        {
          "output_type": "stream",
          "name": "stdout",
          "text": [
            "Démarrage de la simulation avec 100000 clients...\n"
          ]
        },
        {
          "output_type": "stream",
          "name": "stderr",
          "text": [
            "\n",
            "Simulation en cours:   0%|          | 0/100000 [00:00<?, ?it/s]\u001b[A\n",
            "Simulation en cours:  45%|████▍     | 44931/100000 [00:00<00:00, 449293.29it/s]\u001b[A\n",
            "Simulation en cours: 100%|██████████| 100000/100000 [00:00<00:00, 447617.31it/s]\n"
          ]
        },
        {
          "output_type": "stream",
          "name": "stdout",
          "text": [
            "Démarrage de la simulation avec 100000 clients...\n"
          ]
        },
        {
          "output_type": "stream",
          "name": "stderr",
          "text": [
            "\n",
            "Simulation en cours:   0%|          | 0/100000 [00:00<?, ?it/s]\u001b[A\n",
            "Simulation en cours:  47%|████▋     | 47206/100000 [00:00<00:00, 472027.81it/s]\u001b[A\n",
            "Simulation en cours: 100%|██████████| 100000/100000 [00:00<00:00, 450012.82it/s]\n"
          ]
        },
        {
          "output_type": "stream",
          "name": "stdout",
          "text": [
            "Démarrage de la simulation avec 100000 clients...\n"
          ]
        },
        {
          "output_type": "stream",
          "name": "stderr",
          "text": [
            "\n",
            "Simulation en cours:   0%|          | 0/100000 [00:00<?, ?it/s]\u001b[A\n",
            "Simulation en cours:  37%|███▋      | 37437/100000 [00:00<00:00, 374341.80it/s]\u001b[A\n",
            "Simulation en cours: 100%|██████████| 100000/100000 [00:00<00:00, 418202.14it/s]\n",
            "Simulation M/G/1:  11%|█         | 1/9 [00:01<00:08,  1.12s/it]"
          ]
        },
        {
          "output_type": "stream",
          "name": "stdout",
          "text": [
            "Démarrage de la simulation avec 100000 clients...\n"
          ]
        },
        {
          "output_type": "stream",
          "name": "stderr",
          "text": [
            "\n",
            "Simulation en cours:   0%|          | 0/100000 [00:00<?, ?it/s]\u001b[A\n",
            "Simulation en cours:  46%|████▌     | 45958/100000 [00:00<00:00, 459550.86it/s]\u001b[A\n",
            "Simulation en cours: 100%|██████████| 100000/100000 [00:00<00:00, 451079.98it/s]\n"
          ]
        },
        {
          "output_type": "stream",
          "name": "stdout",
          "text": [
            "Démarrage de la simulation avec 100000 clients...\n"
          ]
        },
        {
          "output_type": "stream",
          "name": "stderr",
          "text": [
            "\n",
            "Simulation en cours:   0%|          | 0/100000 [00:00<?, ?it/s]\u001b[A\n",
            "Simulation en cours:  48%|████▊     | 47831/100000 [00:00<00:00, 478283.09it/s]\u001b[A\n",
            "Simulation en cours: 100%|██████████| 100000/100000 [00:00<00:00, 354356.69it/s]\n"
          ]
        },
        {
          "output_type": "stream",
          "name": "stdout",
          "text": [
            "Démarrage de la simulation avec 100000 clients...\n"
          ]
        },
        {
          "output_type": "stream",
          "name": "stderr",
          "text": [
            "\n",
            "Simulation en cours:   0%|          | 0/100000 [00:00<?, ?it/s]\u001b[A\n",
            "Simulation en cours:  25%|██▍       | 24978/100000 [00:00<00:00, 249764.76it/s]\u001b[A\n",
            "Simulation en cours:  51%|█████     | 50502/100000 [00:00<00:00, 252979.16it/s]\u001b[A\n",
            "Simulation en cours: 100%|██████████| 100000/100000 [00:00<00:00, 251373.43it/s]\n",
            "Simulation M/G/1:  22%|██▏       | 2/9 [00:02<00:09,  1.33s/it]"
          ]
        },
        {
          "output_type": "stream",
          "name": "stdout",
          "text": [
            "Démarrage de la simulation avec 100000 clients...\n"
          ]
        },
        {
          "output_type": "stream",
          "name": "stderr",
          "text": [
            "\n",
            "Simulation en cours:   0%|          | 0/100000 [00:00<?, ?it/s]\u001b[A\n",
            "Simulation en cours:  25%|██▌       | 25371/100000 [00:00<00:00, 253697.54it/s]\u001b[A\n",
            "Simulation en cours:  51%|█████     | 50741/100000 [00:00<00:00, 239321.30it/s]\u001b[A\n",
            "Simulation en cours: 100%|██████████| 100000/100000 [00:00<00:00, 253560.35it/s]\n"
          ]
        },
        {
          "output_type": "stream",
          "name": "stdout",
          "text": [
            "Démarrage de la simulation avec 100000 clients...\n"
          ]
        },
        {
          "output_type": "stream",
          "name": "stderr",
          "text": [
            "\n",
            "Simulation en cours:   0%|          | 0/100000 [00:00<?, ?it/s]\u001b[A\n",
            "Simulation en cours:  28%|██▊       | 27575/100000 [00:00<00:00, 275730.54it/s]\u001b[A\n",
            "Simulation en cours:  55%|█████▌    | 55149/100000 [00:00<00:00, 271260.60it/s]\u001b[A\n",
            "Simulation en cours: 100%|██████████| 100000/100000 [00:00<00:00, 264248.91it/s]\n"
          ]
        },
        {
          "output_type": "stream",
          "name": "stdout",
          "text": [
            "Démarrage de la simulation avec 100000 clients...\n"
          ]
        },
        {
          "output_type": "stream",
          "name": "stderr",
          "text": [
            "\n",
            "Simulation en cours:   0%|          | 0/100000 [00:00<?, ?it/s]\u001b[A\n",
            "Simulation en cours:  25%|██▍       | 24591/100000 [00:00<00:00, 245890.89it/s]\u001b[A\n",
            "Simulation en cours:  51%|█████     | 50706/100000 [00:00<00:00, 254857.40it/s]\u001b[A\n",
            "Simulation en cours: 100%|██████████| 100000/100000 [00:00<00:00, 250871.11it/s]\n",
            "Simulation M/G/1:  33%|███▎      | 3/9 [00:04<00:09,  1.63s/it]"
          ]
        },
        {
          "output_type": "stream",
          "name": "stdout",
          "text": [
            "Démarrage de la simulation avec 100000 clients...\n"
          ]
        },
        {
          "output_type": "stream",
          "name": "stderr",
          "text": [
            "\n",
            "Simulation en cours:   0%|          | 0/100000 [00:00<?, ?it/s]\u001b[A\n",
            "Simulation en cours:  45%|████▍     | 44795/100000 [00:00<00:00, 447925.86it/s]\u001b[A\n",
            "Simulation en cours: 100%|██████████| 100000/100000 [00:00<00:00, 432478.72it/s]\n"
          ]
        },
        {
          "output_type": "stream",
          "name": "stdout",
          "text": [
            "Démarrage de la simulation avec 100000 clients...\n"
          ]
        },
        {
          "output_type": "stream",
          "name": "stderr",
          "text": [
            "\n",
            "Simulation en cours:   0%|          | 0/100000 [00:00<?, ?it/s]\u001b[A\n",
            "Simulation en cours:  39%|███▉      | 39145/100000 [00:00<00:00, 391428.91it/s]\u001b[A\n",
            "Simulation en cours: 100%|██████████| 100000/100000 [00:00<00:00, 421205.78it/s]\n"
          ]
        },
        {
          "output_type": "stream",
          "name": "stdout",
          "text": [
            "Démarrage de la simulation avec 100000 clients...\n"
          ]
        },
        {
          "output_type": "stream",
          "name": "stderr",
          "text": [
            "\n",
            "Simulation en cours:   0%|          | 0/100000 [00:00<?, ?it/s]\u001b[A\n",
            "Simulation en cours:  44%|████▍     | 44409/100000 [00:00<00:00, 444057.60it/s]\u001b[A\n",
            "Simulation en cours: 100%|██████████| 100000/100000 [00:00<00:00, 434913.31it/s]\n",
            "Simulation M/G/1:  44%|████▍     | 4/9 [00:05<00:07,  1.46s/it]"
          ]
        },
        {
          "output_type": "stream",
          "name": "stdout",
          "text": [
            "Démarrage de la simulation avec 100000 clients...\n"
          ]
        },
        {
          "output_type": "stream",
          "name": "stderr",
          "text": [
            "\n",
            "Simulation en cours:   0%|          | 0/100000 [00:00<?, ?it/s]\u001b[A\n",
            "Simulation en cours:  44%|████▍     | 43896/100000 [00:00<00:00, 438927.98it/s]\u001b[A\n",
            "Simulation en cours: 100%|██████████| 100000/100000 [00:00<00:00, 437848.04it/s]\n"
          ]
        },
        {
          "output_type": "stream",
          "name": "stdout",
          "text": [
            "Démarrage de la simulation avec 100000 clients...\n"
          ]
        },
        {
          "output_type": "stream",
          "name": "stderr",
          "text": [
            "\n",
            "Simulation en cours:   0%|          | 0/100000 [00:00<?, ?it/s]\u001b[A\n",
            "Simulation en cours:  46%|████▌     | 45530/100000 [00:00<00:00, 455265.70it/s]\u001b[A\n",
            "Simulation en cours: 100%|██████████| 100000/100000 [00:00<00:00, 443114.89it/s]\n"
          ]
        },
        {
          "output_type": "stream",
          "name": "stdout",
          "text": [
            "Démarrage de la simulation avec 100000 clients...\n"
          ]
        },
        {
          "output_type": "stream",
          "name": "stderr",
          "text": [
            "\n",
            "Simulation en cours:   0%|          | 0/100000 [00:00<?, ?it/s]\u001b[A\n",
            "Simulation en cours:  44%|████▎     | 43710/100000 [00:00<00:00, 437071.24it/s]\u001b[A\n",
            "Simulation en cours: 100%|██████████| 100000/100000 [00:00<00:00, 432065.29it/s]\n",
            "Simulation M/G/1:  56%|█████▌    | 5/9 [00:06<00:05,  1.34s/it]"
          ]
        },
        {
          "output_type": "stream",
          "name": "stdout",
          "text": [
            "Démarrage de la simulation avec 100000 clients...\n"
          ]
        },
        {
          "output_type": "stream",
          "name": "stderr",
          "text": [
            "\n",
            "Simulation en cours:   0%|          | 0/100000 [00:00<?, ?it/s]\u001b[A\n",
            "Simulation en cours:  42%|████▏     | 42062/100000 [00:00<00:00, 420597.34it/s]\u001b[A\n",
            "Simulation en cours: 100%|██████████| 100000/100000 [00:00<00:00, 389937.84it/s]\n"
          ]
        },
        {
          "output_type": "stream",
          "name": "stdout",
          "text": [
            "Démarrage de la simulation avec 100000 clients...\n"
          ]
        },
        {
          "output_type": "stream",
          "name": "stderr",
          "text": [
            "\n",
            "Simulation en cours:   0%|          | 0/100000 [00:00<?, ?it/s]\u001b[A\n",
            "Simulation en cours:  46%|████▋     | 46269/100000 [00:00<00:00, 462665.07it/s]\u001b[A\n",
            "Simulation en cours: 100%|██████████| 100000/100000 [00:00<00:00, 438819.65it/s]\n"
          ]
        },
        {
          "output_type": "stream",
          "name": "stdout",
          "text": [
            "Démarrage de la simulation avec 100000 clients...\n"
          ]
        },
        {
          "output_type": "stream",
          "name": "stderr",
          "text": [
            "\n",
            "Simulation en cours:   0%|          | 0/100000 [00:00<?, ?it/s]\u001b[A\n",
            "Simulation en cours:  44%|████▍     | 43899/100000 [00:00<00:00, 438951.70it/s]\u001b[A\n",
            "Simulation en cours: 100%|██████████| 100000/100000 [00:00<00:00, 433793.30it/s]\n",
            "Simulation M/G/1:  67%|██████▋   | 6/9 [00:08<00:03,  1.28s/it]"
          ]
        },
        {
          "output_type": "stream",
          "name": "stdout",
          "text": [
            "Démarrage de la simulation avec 100000 clients...\n"
          ]
        },
        {
          "output_type": "stream",
          "name": "stderr",
          "text": [
            "\n",
            "Simulation en cours:   0%|          | 0/100000 [00:00<?, ?it/s]\u001b[A\n",
            "Simulation en cours:  35%|███▌      | 35416/100000 [00:00<00:00, 354133.32it/s]\u001b[A\n",
            "Simulation en cours: 100%|██████████| 100000/100000 [00:00<00:00, 406264.98it/s]\n"
          ]
        },
        {
          "output_type": "stream",
          "name": "stdout",
          "text": [
            "Démarrage de la simulation avec 100000 clients...\n"
          ]
        },
        {
          "output_type": "stream",
          "name": "stderr",
          "text": [
            "\n",
            "Simulation en cours:   0%|          | 0/100000 [00:00<?, ?it/s]\u001b[A\n",
            "Simulation en cours:  44%|████▍     | 44272/100000 [00:00<00:00, 442691.92it/s]\u001b[A\n",
            "Simulation en cours: 100%|██████████| 100000/100000 [00:00<00:00, 427655.93it/s]\n"
          ]
        },
        {
          "output_type": "stream",
          "name": "stdout",
          "text": [
            "Démarrage de la simulation avec 100000 clients...\n"
          ]
        },
        {
          "output_type": "stream",
          "name": "stderr",
          "text": [
            "\n",
            "Simulation en cours:   0%|          | 0/100000 [00:00<?, ?it/s]\u001b[A\n",
            "Simulation en cours:  44%|████▍     | 43829/100000 [00:00<00:00, 438259.07it/s]\u001b[A\n",
            "Simulation en cours: 100%|██████████| 100000/100000 [00:00<00:00, 438619.57it/s]\n",
            "Simulation M/G/1:  78%|███████▊  | 7/9 [00:09<00:02,  1.24s/it]"
          ]
        },
        {
          "output_type": "stream",
          "name": "stdout",
          "text": [
            "Démarrage de la simulation avec 100000 clients...\n"
          ]
        },
        {
          "output_type": "stream",
          "name": "stderr",
          "text": [
            "\n",
            "Simulation en cours:   0%|          | 0/100000 [00:00<?, ?it/s]\u001b[A\n",
            "Simulation en cours:  42%|████▏     | 42171/100000 [00:00<00:00, 421680.24it/s]\u001b[A\n",
            "Simulation en cours: 100%|██████████| 100000/100000 [00:00<00:00, 429197.65it/s]\n"
          ]
        },
        {
          "output_type": "stream",
          "name": "stdout",
          "text": [
            "Démarrage de la simulation avec 100000 clients...\n"
          ]
        },
        {
          "output_type": "stream",
          "name": "stderr",
          "text": [
            "\n",
            "Simulation en cours:   0%|          | 0/100000 [00:00<?, ?it/s]\u001b[A\n",
            "Simulation en cours:  44%|████▍     | 44083/100000 [00:00<00:00, 440807.30it/s]\u001b[A\n",
            "Simulation en cours: 100%|██████████| 100000/100000 [00:00<00:00, 422945.50it/s]\n"
          ]
        },
        {
          "output_type": "stream",
          "name": "stdout",
          "text": [
            "Démarrage de la simulation avec 100000 clients...\n"
          ]
        },
        {
          "output_type": "stream",
          "name": "stderr",
          "text": [
            "\n",
            "Simulation en cours:   0%|          | 0/100000 [00:00<?, ?it/s]\u001b[A\n",
            "Simulation en cours:  43%|████▎     | 42874/100000 [00:00<00:00, 428723.03it/s]\u001b[A\n",
            "Simulation en cours: 100%|██████████| 100000/100000 [00:00<00:00, 398697.72it/s]\n",
            "Simulation M/G/1:  89%|████████▉ | 8/9 [00:10<00:01,  1.22s/it]"
          ]
        },
        {
          "output_type": "stream",
          "name": "stdout",
          "text": [
            "Démarrage de la simulation avec 100000 clients...\n"
          ]
        },
        {
          "output_type": "stream",
          "name": "stderr",
          "text": [
            "\n",
            "Simulation en cours:   0%|          | 0/100000 [00:00<?, ?it/s]\u001b[A\n",
            "Simulation en cours:  41%|████      | 40877/100000 [00:00<00:00, 408744.08it/s]\u001b[A\n",
            "Simulation en cours: 100%|██████████| 100000/100000 [00:00<00:00, 419611.67it/s]\n"
          ]
        },
        {
          "output_type": "stream",
          "name": "stdout",
          "text": [
            "Démarrage de la simulation avec 100000 clients...\n"
          ]
        },
        {
          "output_type": "stream",
          "name": "stderr",
          "text": [
            "\n",
            "Simulation en cours:   0%|          | 0/100000 [00:00<?, ?it/s]\u001b[A\n",
            "Simulation en cours:  45%|████▍     | 44586/100000 [00:00<00:00, 445832.79it/s]\u001b[A\n",
            "Simulation en cours: 100%|██████████| 100000/100000 [00:00<00:00, 437083.32it/s]\n"
          ]
        },
        {
          "output_type": "stream",
          "name": "stdout",
          "text": [
            "Démarrage de la simulation avec 100000 clients...\n"
          ]
        },
        {
          "output_type": "stream",
          "name": "stderr",
          "text": [
            "\n",
            "Simulation en cours:   0%|          | 0/100000 [00:00<?, ?it/s]\u001b[A\n",
            "Simulation en cours:  38%|███▊      | 37808/100000 [00:00<00:00, 378055.12it/s]\u001b[A\n",
            "Simulation en cours: 100%|██████████| 100000/100000 [00:00<00:00, 407356.36it/s]\n",
            "Simulation M/G/1: 100%|██████████| 9/9 [00:11<00:00,  1.28s/it]\n"
          ]
        },
        {
          "output_type": "stream",
          "name": "stdout",
          "text": [
            "\n",
            "✅ Résultats sauvegardés dans : results/MG1_lambda0.1-0.9_mu1.0_shape2.0_20250523_121809.csv\n",
            "\n",
            "🔍 Simulation M/G/1 avec shape = 4.0\n",
            "\n",
            "Exécution d'expériences M/G/1\n",
            "Lambda de 0.1 à 0.9, μ = 1.0, shape = 4.0\n"
          ]
        },
        {
          "output_type": "stream",
          "name": "stderr",
          "text": [
            "\rSimulation M/G/1:   0%|          | 0/9 [00:00<?, ?it/s]"
          ]
        },
        {
          "output_type": "stream",
          "name": "stdout",
          "text": [
            "Démarrage de la simulation avec 100000 clients...\n"
          ]
        },
        {
          "output_type": "stream",
          "name": "stderr",
          "text": [
            "\n",
            "Simulation en cours:   0%|          | 0/100000 [00:00<?, ?it/s]\u001b[A\n",
            "Simulation en cours:  44%|████▍     | 44075/100000 [00:00<00:00, 440728.35it/s]\u001b[A\n",
            "Simulation en cours: 100%|██████████| 100000/100000 [00:00<00:00, 424663.53it/s]\n"
          ]
        },
        {
          "output_type": "stream",
          "name": "stdout",
          "text": [
            "Démarrage de la simulation avec 100000 clients...\n"
          ]
        },
        {
          "output_type": "stream",
          "name": "stderr",
          "text": [
            "\n",
            "Simulation en cours:   0%|          | 0/100000 [00:00<?, ?it/s]\u001b[A\n",
            "Simulation en cours:  48%|████▊     | 47956/100000 [00:00<00:00, 479533.02it/s]\u001b[A\n",
            "Simulation en cours: 100%|██████████| 100000/100000 [00:00<00:00, 449450.55it/s]\n"
          ]
        },
        {
          "output_type": "stream",
          "name": "stdout",
          "text": [
            "Démarrage de la simulation avec 100000 clients...\n"
          ]
        },
        {
          "output_type": "stream",
          "name": "stderr",
          "text": [
            "\n",
            "Simulation en cours:   0%|          | 0/100000 [00:00<?, ?it/s]\u001b[A\n",
            "Simulation en cours:  48%|████▊     | 48170/100000 [00:00<00:00, 481669.45it/s]\u001b[A\n",
            "Simulation en cours: 100%|██████████| 100000/100000 [00:00<00:00, 451993.84it/s]\n",
            "Simulation M/G/1:  11%|█         | 1/9 [00:01<00:09,  1.14s/it]"
          ]
        },
        {
          "output_type": "stream",
          "name": "stdout",
          "text": [
            "Démarrage de la simulation avec 100000 clients...\n"
          ]
        },
        {
          "output_type": "stream",
          "name": "stderr",
          "text": [
            "\n",
            "Simulation en cours:   0%|          | 0/100000 [00:00<?, ?it/s]\u001b[A\n",
            "Simulation en cours:  45%|████▍     | 44882/100000 [00:00<00:00, 448765.86it/s]\u001b[A\n",
            "Simulation en cours: 100%|██████████| 100000/100000 [00:00<00:00, 435950.75it/s]\n"
          ]
        },
        {
          "output_type": "stream",
          "name": "stdout",
          "text": [
            "Démarrage de la simulation avec 100000 clients...\n"
          ]
        },
        {
          "output_type": "stream",
          "name": "stderr",
          "text": [
            "\n",
            "Simulation en cours:   0%|          | 0/100000 [00:00<?, ?it/s]\u001b[A\n",
            "Simulation en cours:  43%|████▎     | 42678/100000 [00:00<00:00, 426749.88it/s]\u001b[A\n",
            "Simulation en cours: 100%|██████████| 100000/100000 [00:00<00:00, 424126.33it/s]\n"
          ]
        },
        {
          "output_type": "stream",
          "name": "stdout",
          "text": [
            "Démarrage de la simulation avec 100000 clients...\n"
          ]
        },
        {
          "output_type": "stream",
          "name": "stderr",
          "text": [
            "\n",
            "Simulation en cours:   0%|          | 0/100000 [00:00<?, ?it/s]\u001b[A\n",
            "Simulation en cours:  39%|███▊      | 38615/100000 [00:00<00:00, 386128.27it/s]\u001b[A\n",
            "Simulation en cours: 100%|██████████| 100000/100000 [00:00<00:00, 417877.98it/s]\n",
            "Simulation M/G/1:  22%|██▏       | 2/9 [00:02<00:08,  1.15s/it]"
          ]
        },
        {
          "output_type": "stream",
          "name": "stdout",
          "text": [
            "Démarrage de la simulation avec 100000 clients...\n"
          ]
        },
        {
          "output_type": "stream",
          "name": "stderr",
          "text": [
            "\n",
            "Simulation en cours:   0%|          | 0/100000 [00:00<?, ?it/s]\u001b[A\n",
            "Simulation en cours:  47%|████▋     | 46757/100000 [00:00<00:00, 467530.32it/s]\u001b[A\n",
            "Simulation en cours: 100%|██████████| 100000/100000 [00:00<00:00, 448148.18it/s]\n"
          ]
        },
        {
          "output_type": "stream",
          "name": "stdout",
          "text": [
            "Démarrage de la simulation avec 100000 clients...\n"
          ]
        },
        {
          "output_type": "stream",
          "name": "stderr",
          "text": [
            "\n",
            "Simulation en cours:   0%|          | 0/100000 [00:00<?, ?it/s]\u001b[A\n",
            "Simulation en cours:  46%|████▌     | 46007/100000 [00:00<00:00, 460049.60it/s]\u001b[A\n",
            "Simulation en cours: 100%|██████████| 100000/100000 [00:00<00:00, 416679.48it/s]\n"
          ]
        },
        {
          "output_type": "stream",
          "name": "stdout",
          "text": [
            "Démarrage de la simulation avec 100000 clients...\n"
          ]
        },
        {
          "output_type": "stream",
          "name": "stderr",
          "text": [
            "\n",
            "Simulation en cours:   0%|          | 0/100000 [00:00<?, ?it/s]\u001b[A\n",
            "Simulation en cours:  25%|██▌       | 25458/100000 [00:00<00:00, 254559.00it/s]\u001b[A\n",
            "Simulation en cours:  51%|█████     | 50914/100000 [00:00<00:00, 251444.95it/s]\u001b[A\n",
            "Simulation en cours: 100%|██████████| 100000/100000 [00:00<00:00, 255923.30it/s]\n",
            "Simulation M/G/1:  33%|███▎      | 3/9 [00:03<00:07,  1.26s/it]"
          ]
        },
        {
          "output_type": "stream",
          "name": "stdout",
          "text": [
            "Démarrage de la simulation avec 100000 clients...\n"
          ]
        },
        {
          "output_type": "stream",
          "name": "stderr",
          "text": [
            "\n",
            "Simulation en cours:   0%|          | 0/100000 [00:00<?, ?it/s]\u001b[A\n",
            "Simulation en cours:  24%|██▍       | 24107/100000 [00:00<00:00, 241056.44it/s]\u001b[A\n",
            "Simulation en cours:  49%|████▉     | 49000/100000 [00:00<00:00, 245681.08it/s]\u001b[A\n",
            "Simulation en cours:  74%|███████▍  | 73982/100000 [00:00<00:00, 247564.05it/s]\u001b[A\n",
            "Simulation en cours: 100%|██████████| 100000/100000 [00:00<00:00, 241266.46it/s]\n"
          ]
        },
        {
          "output_type": "stream",
          "name": "stdout",
          "text": [
            "Démarrage de la simulation avec 100000 clients...\n"
          ]
        },
        {
          "output_type": "stream",
          "name": "stderr",
          "text": [
            "\n",
            "Simulation en cours:   0%|          | 0/100000 [00:00<?, ?it/s]\u001b[A\n",
            "Simulation en cours:  26%|██▋       | 26379/100000 [00:00<00:00, 263766.98it/s]\u001b[A\n",
            "Simulation en cours:  53%|█████▎    | 52756/100000 [00:00<00:00, 257593.65it/s]\u001b[A\n",
            "Simulation en cours: 100%|██████████| 100000/100000 [00:00<00:00, 262800.67it/s]\n"
          ]
        },
        {
          "output_type": "stream",
          "name": "stdout",
          "text": [
            "Démarrage de la simulation avec 100000 clients...\n"
          ]
        },
        {
          "output_type": "stream",
          "name": "stderr",
          "text": [
            "\n",
            "Simulation en cours:   0%|          | 0/100000 [00:00<?, ?it/s]\u001b[A\n",
            "Simulation en cours:  27%|██▋       | 26585/100000 [00:00<00:00, 265822.37it/s]\u001b[A\n",
            "Simulation en cours:  53%|█████▎    | 53168/100000 [00:00<00:00, 254451.20it/s]\u001b[A\n",
            "Simulation en cours: 100%|██████████| 100000/100000 [00:00<00:00, 247430.83it/s]\n",
            "Simulation M/G/1:  44%|████▍     | 4/9 [00:05<00:07,  1.56s/it]"
          ]
        },
        {
          "output_type": "stream",
          "name": "stdout",
          "text": [
            "Démarrage de la simulation avec 100000 clients...\n"
          ]
        },
        {
          "output_type": "stream",
          "name": "stderr",
          "text": [
            "\n",
            "Simulation en cours:   0%|          | 0/100000 [00:00<?, ?it/s]\u001b[A\n",
            "Simulation en cours:  36%|███▋      | 36265/100000 [00:00<00:00, 362627.87it/s]\u001b[A\n",
            "Simulation en cours: 100%|██████████| 100000/100000 [00:00<00:00, 371770.53it/s]\n"
          ]
        },
        {
          "output_type": "stream",
          "name": "stdout",
          "text": [
            "Démarrage de la simulation avec 100000 clients...\n"
          ]
        },
        {
          "output_type": "stream",
          "name": "stderr",
          "text": [
            "\n",
            "Simulation en cours:   0%|          | 0/100000 [00:00<?, ?it/s]\u001b[A\n",
            "Simulation en cours:  44%|████▍     | 44320/100000 [00:00<00:00, 443174.01it/s]\u001b[A\n",
            "Simulation en cours: 100%|██████████| 100000/100000 [00:00<00:00, 427748.40it/s]\n"
          ]
        },
        {
          "output_type": "stream",
          "name": "stdout",
          "text": [
            "Démarrage de la simulation avec 100000 clients...\n"
          ]
        },
        {
          "output_type": "stream",
          "name": "stderr",
          "text": [
            "\n",
            "Simulation en cours:   0%|          | 0/100000 [00:00<?, ?it/s]\u001b[A\n",
            "Simulation en cours:  45%|████▍     | 44614/100000 [00:00<00:00, 446117.03it/s]\u001b[A\n",
            "Simulation en cours: 100%|██████████| 100000/100000 [00:00<00:00, 439754.54it/s]\n",
            "Simulation M/G/1:  56%|█████▌    | 5/9 [00:07<00:05,  1.47s/it]"
          ]
        },
        {
          "output_type": "stream",
          "name": "stdout",
          "text": [
            "Démarrage de la simulation avec 100000 clients...\n"
          ]
        },
        {
          "output_type": "stream",
          "name": "stderr",
          "text": [
            "\n",
            "Simulation en cours:   0%|          | 0/100000 [00:00<?, ?it/s]\u001b[A\n",
            "Simulation en cours:  44%|████▍     | 44134/100000 [00:00<00:00, 441316.22it/s]\u001b[A\n",
            "Simulation en cours: 100%|██████████| 100000/100000 [00:00<00:00, 421950.29it/s]\n"
          ]
        },
        {
          "output_type": "stream",
          "name": "stdout",
          "text": [
            "Démarrage de la simulation avec 100000 clients...\n"
          ]
        },
        {
          "output_type": "stream",
          "name": "stderr",
          "text": [
            "\n",
            "Simulation en cours:   0%|          | 0/100000 [00:00<?, ?it/s]\u001b[A\n",
            "Simulation en cours:  44%|████▍     | 44453/100000 [00:00<00:00, 444502.87it/s]\u001b[A\n",
            "Simulation en cours: 100%|██████████| 100000/100000 [00:00<00:00, 433006.00it/s]\n"
          ]
        },
        {
          "output_type": "stream",
          "name": "stdout",
          "text": [
            "Démarrage de la simulation avec 100000 clients...\n"
          ]
        },
        {
          "output_type": "stream",
          "name": "stderr",
          "text": [
            "\n",
            "Simulation en cours:   0%|          | 0/100000 [00:00<?, ?it/s]\u001b[A\n",
            "Simulation en cours:  45%|████▌     | 45278/100000 [00:00<00:00, 452754.52it/s]\u001b[A\n",
            "Simulation en cours: 100%|██████████| 100000/100000 [00:00<00:00, 420998.62it/s]\n",
            "Simulation M/G/1:  67%|██████▋   | 6/9 [00:08<00:04,  1.37s/it]"
          ]
        },
        {
          "output_type": "stream",
          "name": "stdout",
          "text": [
            "Démarrage de la simulation avec 100000 clients...\n"
          ]
        },
        {
          "output_type": "stream",
          "name": "stderr",
          "text": [
            "\n",
            "Simulation en cours:   0%|          | 0/100000 [00:00<?, ?it/s]\u001b[A\n",
            "Simulation en cours:  43%|████▎     | 43186/100000 [00:00<00:00, 431828.50it/s]\u001b[A\n",
            "Simulation en cours: 100%|██████████| 100000/100000 [00:00<00:00, 431674.86it/s]\n"
          ]
        },
        {
          "output_type": "stream",
          "name": "stdout",
          "text": [
            "Démarrage de la simulation avec 100000 clients...\n"
          ]
        },
        {
          "output_type": "stream",
          "name": "stderr",
          "text": [
            "\n",
            "Simulation en cours:   0%|          | 0/100000 [00:00<?, ?it/s]\u001b[A\n",
            "Simulation en cours:  44%|████▍     | 43763/100000 [00:00<00:00, 437605.38it/s]\u001b[A\n",
            "Simulation en cours: 100%|██████████| 100000/100000 [00:00<00:00, 429899.31it/s]\n"
          ]
        },
        {
          "output_type": "stream",
          "name": "stdout",
          "text": [
            "Démarrage de la simulation avec 100000 clients...\n"
          ]
        },
        {
          "output_type": "stream",
          "name": "stderr",
          "text": [
            "\n",
            "Simulation en cours:   0%|          | 0/100000 [00:00<?, ?it/s]\u001b[A\n",
            "Simulation en cours:  43%|████▎     | 43194/100000 [00:00<00:00, 431910.55it/s]\u001b[A\n",
            "Simulation en cours: 100%|██████████| 100000/100000 [00:00<00:00, 398554.13it/s]\n",
            "Simulation M/G/1:  78%|███████▊  | 7/9 [00:09<00:02,  1.30s/it]"
          ]
        },
        {
          "output_type": "stream",
          "name": "stdout",
          "text": [
            "Démarrage de la simulation avec 100000 clients...\n"
          ]
        },
        {
          "output_type": "stream",
          "name": "stderr",
          "text": [
            "\n",
            "Simulation en cours:   0%|          | 0/100000 [00:00<?, ?it/s]\u001b[A\n",
            "Simulation en cours:  44%|████▍     | 43961/100000 [00:00<00:00, 439582.12it/s]\u001b[A\n",
            "Simulation en cours: 100%|██████████| 100000/100000 [00:00<00:00, 430400.00it/s]\n"
          ]
        },
        {
          "output_type": "stream",
          "name": "stdout",
          "text": [
            "Démarrage de la simulation avec 100000 clients...\n"
          ]
        },
        {
          "output_type": "stream",
          "name": "stderr",
          "text": [
            "\n",
            "Simulation en cours:   0%|          | 0/100000 [00:00<?, ?it/s]\u001b[A\n",
            "Simulation en cours:  43%|████▎     | 43284/100000 [00:00<00:00, 432817.71it/s]\u001b[A\n",
            "Simulation en cours: 100%|██████████| 100000/100000 [00:00<00:00, 424659.66it/s]\n"
          ]
        },
        {
          "output_type": "stream",
          "name": "stdout",
          "text": [
            "Démarrage de la simulation avec 100000 clients...\n"
          ]
        },
        {
          "output_type": "stream",
          "name": "stderr",
          "text": [
            "\n",
            "Simulation en cours:   0%|          | 0/100000 [00:00<?, ?it/s]\u001b[A\n",
            "Simulation en cours:  37%|███▋      | 36979/100000 [00:00<00:00, 369760.38it/s]\u001b[A\n",
            "Simulation en cours: 100%|██████████| 100000/100000 [00:00<00:00, 398852.79it/s]\n",
            "Simulation M/G/1:  89%|████████▉ | 8/9 [00:10<00:01,  1.26s/it]"
          ]
        },
        {
          "output_type": "stream",
          "name": "stdout",
          "text": [
            "Démarrage de la simulation avec 100000 clients...\n"
          ]
        },
        {
          "output_type": "stream",
          "name": "stderr",
          "text": [
            "\n",
            "Simulation en cours:   0%|          | 0/100000 [00:00<?, ?it/s]\u001b[A\n",
            "Simulation en cours:  41%|████▏     | 41485/100000 [00:00<00:00, 414827.65it/s]\u001b[A\n",
            "Simulation en cours: 100%|██████████| 100000/100000 [00:00<00:00, 425122.36it/s]\n"
          ]
        },
        {
          "output_type": "stream",
          "name": "stdout",
          "text": [
            "Démarrage de la simulation avec 100000 clients...\n"
          ]
        },
        {
          "output_type": "stream",
          "name": "stderr",
          "text": [
            "\n",
            "Simulation en cours:   0%|          | 0/100000 [00:00<?, ?it/s]\u001b[A\n",
            "Simulation en cours:  43%|████▎     | 42735/100000 [00:00<00:00, 427321.88it/s]\u001b[A\n",
            "Simulation en cours: 100%|██████████| 100000/100000 [00:00<00:00, 426191.07it/s]\n"
          ]
        },
        {
          "output_type": "stream",
          "name": "stdout",
          "text": [
            "Démarrage de la simulation avec 100000 clients...\n"
          ]
        },
        {
          "output_type": "stream",
          "name": "stderr",
          "text": [
            "\n",
            "Simulation en cours:   0%|          | 0/100000 [00:00<?, ?it/s]\u001b[A\n",
            "Simulation en cours:  43%|████▎     | 42912/100000 [00:00<00:00, 429090.74it/s]\u001b[A\n",
            "Simulation en cours: 100%|██████████| 100000/100000 [00:00<00:00, 411359.53it/s]\n",
            "Simulation M/G/1: 100%|██████████| 9/9 [00:11<00:00,  1.30s/it]\n"
          ]
        },
        {
          "output_type": "stream",
          "name": "stdout",
          "text": [
            "\n",
            "✅ Résultats sauvegardés dans : results/MG1_lambda0.1-0.9_mu1.0_shape4.0_20250523_121820.csv\n",
            "\n",
            "Résultats M/G/1 (shape=0.5):\n",
            "   lambda       rho  avg_waiting_time  avg_response_time\n",
            "0     0.1  0.100034          0.169098           1.169452\n",
            "1     0.2  0.200066          0.380093           1.380448\n",
            "2     0.3  0.300098          0.649067           1.649422\n",
            "3     0.4  0.400129          1.005322           2.005677\n",
            "4     0.5  0.500158          1.499844           2.500199\n",
            "\n",
            "Résultats M/G/1 (shape=1.0):\n",
            "   lambda       rho  avg_waiting_time  avg_response_time\n",
            "0     0.1  0.099849          0.111300           1.109801\n",
            "1     0.2  0.199697          0.249137           1.247637\n",
            "2     0.3  0.299545          0.426345           1.424846\n",
            "3     0.4  0.399393          0.663466           1.661966\n",
            "4     0.5  0.499240          0.996913           1.995413\n",
            "\n",
            "Résultats M/G/1 (shape=2.0):\n",
            "   lambda       rho  avg_waiting_time  avg_response_time\n",
            "0     0.1  0.100047          0.082524           1.083009\n",
            "1     0.2  0.200093          0.185357           1.185843\n",
            "2     0.3  0.300139          0.318754           1.319240\n",
            "3     0.4  0.400183          0.496681           1.497167\n",
            "4     0.5  0.500227          0.745635           1.746121\n",
            "\n",
            "Résultats M/G/1 (shape=4.0):\n",
            "   lambda       rho  avg_waiting_time  avg_response_time\n",
            "0     0.1  0.100002          0.069338           1.069384\n",
            "1     0.2  0.200004          0.155528           1.155574\n",
            "2     0.3  0.300006          0.266866           1.266912\n",
            "3     0.4  0.400007          0.414512           1.414558\n",
            "4     0.5  0.500008          0.621715           1.621761\n",
            "\n",
            "Création des graphiques...\n",
            "Graphique sauvegardé: graphs/mg1_metrics_shape2.png\n",
            "Graphique sauvegardé: graphs/mg1_shape_comparison_response_time.png\n",
            "Graphique sauvegardé: graphs/mg1_shape_comparison_waiting_time.png\n",
            "\n",
            "Temps total d'exécution: 49.86 secondes\n",
            "Simulation M/G/1 terminée avec succès!\n",
            "\n",
            "✅ Tous les fichiers CSV sont disponibles dans le dossier : results\n"
          ]
        },
        {
          "output_type": "display_data",
          "data": {
            "text/plain": [
              "<Figure size 1500x1200 with 4 Axes>"
            ],
            "image/png": "[encoded data removed]"
          },
          "metadata": {}
        },
        {
          "output_type": "display_data",
          "data": {
            "text/plain": [
              "<Figure size 1200x800 with 1 Axes>"
            ],
            "image/png": "[encoded data removed]"
          },
          "metadata": {}
        },
        {
          "output_type": "display_data",
          "data": {
            "text/plain": [
              "<Figure size 1200x800 with 1 Axes>"
            ],
            "image/png": "[encoded data removed]"
          },
          "metadata": {}
        }
      ]
    },
    {
      "cell_type": "code",
      "source": [],
      "metadata": {
        "id": "miRBJZ0OwdU5"
      },
      "execution_count": 44,
      "outputs": []
    }
  ]
}